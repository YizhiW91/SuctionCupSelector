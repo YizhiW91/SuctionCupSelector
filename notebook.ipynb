{
 "cells": [
  {
   "cell_type": "markdown",
   "id": "da69cbe3-3052-4b8f-8a1c-c48da42de1f1",
   "metadata": {
    "tags": []
   },
   "source": [
    "# Suction Cup Selector Project\n",
    "\n",
    "This is the notebook for the suction cup selector project."
   ]
  },
  {
   "cell_type": "markdown",
   "id": "8c88e451-f513-4b06-a1c6-ad67cb866e36",
   "metadata": {},
   "source": [
    "## Download the project\n",
    "\n",
    "If you have git installed, you should be able to pull the project down from the repository using the command:\n",
    "\n",
    "```bash\n",
    "git clone <url>\n",
    "```\n",
    "\n",
    "Once you cloned the project, you can switch the branch using:\n",
    "\n",
    "```bash\n",
    "git checkout <branchname>\n",
    "git checkout -b <yourownbranchname>\n",
    "```\n",
    "\n",
    "To confirm your change and add it to the git history, do:\n",
    "\n",
    "```bash\n",
    "git add .  #this is to stage all chagnes\n",
    "git status #this is to confirm the change\n",
    "git commit -m \"commit message\" #this is to finalize and commit the change\n",
    "```\n",
    "\n",
    "If you want to push your changes to repository, do:\n",
    "\n",
    "```bash\n",
    "git push -u origin <branchname>\n",
    "```\n",
    "\n",
    "To stage your changes for review, do pull request on Github\n"
   ]
  },
  {
   "cell_type": "markdown",
   "id": "54e9bb82-3d61-490d-b1ee-0bf403fcd193",
   "metadata": {},
   "source": [
    "## Environment setup\n",
    "For this project I choose to use Python 3.9 with Pandas/Jupyter library."
   ]
  },
  {
   "cell_type": "code",
   "execution_count": 2,
   "id": "69994ec7-ef9f-463c-9c61-065e54e7fb3c",
   "metadata": {},
   "outputs": [
    {
     "name": "stdout",
     "output_type": "stream",
     "text": [
      "3.9.7 (default, Sep 16 2021, 08:50:36) \n",
      "[Clang 10.0.0 ]\n"
     ]
    }
   ],
   "source": [
    "import sys\n",
    "print(sys.version)"
   ]
  },
  {
   "cell_type": "markdown",
   "id": "e8c75155-09af-4c08-a880-1ed6c824e1f7",
   "metadata": {},
   "source": [
    "To isolate the environment, here is how you create a virtual one for the project. Go to your project folder, open terminal/cmd and run the following command:\n",
    "\n",
    "```bash\n",
    "python3 -m venv myenv\n",
    "```\n",
    "\n",
    "To activate the environment, run the following command:\n",
    "```bash\n",
    "# for windows\n",
    "myenv\\Scripts\\activate\n",
    "\n",
    "# for Mac/Linux\n",
    "source myenv/bin/activate\n",
    "```"
   ]
  },
  {
   "cell_type": "markdown",
   "id": "eb98df45-8cef-49e2-9752-bb73c92527d3",
   "metadata": {},
   "source": [
    "## Data Processing\n",
    "The first step of the project is to process the flat files. There are multiple ways for doing data processing. Here we choose to use pandas library read_csv() method to load the csv files into pandas **dataframe** objects."
   ]
  },
  {
   "cell_type": "code",
   "execution_count": 3,
   "id": "25090c65-fce3-4157-935c-d97f99a3ea1a",
   "metadata": {},
   "outputs": [],
   "source": [
    "import pandas as pd\n",
    "\n",
    "suctionCups = pd.read_csv('SuctionCups.csv')\n",
    "graspTypes = pd.read_csv('GraspTypes.csv')\n",
    "items = pd.read_csv('items.csv')\n",
    "itemConfigs = pd.read_csv('itemConfigs.csv')"
   ]
  },
  {
   "cell_type": "markdown",
   "id": "349a7091-094e-4885-b8fa-e1d9d2beffd8",
   "metadata": {},
   "source": [
    "#### To see the type of the object, you can do type()\n"
   ]
  },
  {
   "cell_type": "code",
   "execution_count": 4,
   "id": "c9deaf3e-b851-4a11-bf39-e079bfd6306e",
   "metadata": {},
   "outputs": [
    {
     "data": {
      "text/plain": "pandas.core.frame.DataFrame"
     },
     "execution_count": 4,
     "metadata": {},
     "output_type": "execute_result"
    }
   ],
   "source": [
    "type(items)"
   ]
  },
  {
   "cell_type": "markdown",
   "id": "73ee89aa-2982-407f-846d-f17a8a72b3fc",
   "metadata": {
    "tags": []
   },
   "source": [
    "#### To inspect the data we just loaded, Here are some common methods:\n",
    "* df.head(): Returns the first few rows of the DataFrame.\n",
    "* df.tail(): Returns the last few rows of the DataFrame.\n",
    "* df.shape: Returns the dimensions (rows, columns) of the DataFrame.\n",
    "* df.info(): Provides information about the DataFrame, including column data types and missing values.\n",
    "* df.describe(): Generates descriptive statistics of numerical columns, such as count, mean, min, max, etc."
   ]
  },
  {
   "cell_type": "markdown",
   "id": "0111f9ce-1b4b-471e-bb1b-3000abca5c76",
   "metadata": {},
   "source": [
    "#### items object overview"
   ]
  },
  {
   "cell_type": "code",
   "execution_count": 5,
   "id": "1b5920c0-ae22-40bf-bf78-a7d68ee6bc2d",
   "metadata": {},
   "outputs": [
    {
     "data": {
      "text/plain": "   item_id      sku_no  unit_length  unit_width  unit_height  weight  \\\n0    12810  24287592.0         8.40        3.70         2.30   2.100   \n1    19327   1266017.0         5.50        5.50         8.40   1.470   \n2    24874  24529912.0        10.00        8.05         2.60   0.720   \n3    15205    565284.0         6.85        2.70         2.65   1.285   \n4    13444   2610177.0         9.20        8.10         6.70   1.300   \n\n                      item_description  \n0  SILK PURE ALMOND UNSWT VAN           \n1  NEO-GEL 48PC TUB BLU                 \n2  FULL SIZE HOT GLUE GUN               \n3  TAPE DISPENSER                       \n4  DESKTOP DRAWER SYSTEM SMALL          ",
      "text/html": "<div>\n<style scoped>\n    .dataframe tbody tr th:only-of-type {\n        vertical-align: middle;\n    }\n\n    .dataframe tbody tr th {\n        vertical-align: top;\n    }\n\n    .dataframe thead th {\n        text-align: right;\n    }\n</style>\n<table border=\"1\" class=\"dataframe\">\n  <thead>\n    <tr style=\"text-align: right;\">\n      <th></th>\n      <th>item_id</th>\n      <th>sku_no</th>\n      <th>unit_length</th>\n      <th>unit_width</th>\n      <th>unit_height</th>\n      <th>weight</th>\n      <th>item_description</th>\n    </tr>\n  </thead>\n  <tbody>\n    <tr>\n      <th>0</th>\n      <td>12810</td>\n      <td>24287592.0</td>\n      <td>8.40</td>\n      <td>3.70</td>\n      <td>2.30</td>\n      <td>2.100</td>\n      <td>SILK PURE ALMOND UNSWT VAN</td>\n    </tr>\n    <tr>\n      <th>1</th>\n      <td>19327</td>\n      <td>1266017.0</td>\n      <td>5.50</td>\n      <td>5.50</td>\n      <td>8.40</td>\n      <td>1.470</td>\n      <td>NEO-GEL 48PC TUB BLU</td>\n    </tr>\n    <tr>\n      <th>2</th>\n      <td>24874</td>\n      <td>24529912.0</td>\n      <td>10.00</td>\n      <td>8.05</td>\n      <td>2.60</td>\n      <td>0.720</td>\n      <td>FULL SIZE HOT GLUE GUN</td>\n    </tr>\n    <tr>\n      <th>3</th>\n      <td>15205</td>\n      <td>565284.0</td>\n      <td>6.85</td>\n      <td>2.70</td>\n      <td>2.65</td>\n      <td>1.285</td>\n      <td>TAPE DISPENSER</td>\n    </tr>\n    <tr>\n      <th>4</th>\n      <td>13444</td>\n      <td>2610177.0</td>\n      <td>9.20</td>\n      <td>8.10</td>\n      <td>6.70</td>\n      <td>1.300</td>\n      <td>DESKTOP DRAWER SYSTEM SMALL</td>\n    </tr>\n  </tbody>\n</table>\n</div>"
     },
     "execution_count": 5,
     "metadata": {},
     "output_type": "execute_result"
    }
   ],
   "source": [
    "items.head()"
   ]
  },
  {
   "cell_type": "code",
   "execution_count": 6,
   "id": "85d62fc5-f3a3-4a12-9756-e16f6c2303dc",
   "metadata": {},
   "outputs": [
    {
     "data": {
      "text/plain": "(7622, 7)"
     },
     "execution_count": 6,
     "metadata": {},
     "output_type": "execute_result"
    }
   ],
   "source": [
    "items.shape"
   ]
  },
  {
   "cell_type": "code",
   "execution_count": 7,
   "id": "12222633-ceed-417b-bc0f-0010215b1acd",
   "metadata": {},
   "outputs": [
    {
     "name": "stdout",
     "output_type": "stream",
     "text": [
      "<class 'pandas.core.frame.DataFrame'>\n",
      "RangeIndex: 7622 entries, 0 to 7621\n",
      "Data columns (total 7 columns):\n",
      " #   Column            Non-Null Count  Dtype  \n",
      "---  ------            --------------  -----  \n",
      " 0   item_id           7622 non-null   int64  \n",
      " 1   sku_no            7114 non-null   float64\n",
      " 2   unit_length       7622 non-null   float64\n",
      " 3   unit_width        7622 non-null   float64\n",
      " 4   unit_height       7622 non-null   float64\n",
      " 5   weight            7622 non-null   float64\n",
      " 6   item_description  7622 non-null   object \n",
      "dtypes: float64(5), int64(1), object(1)\n",
      "memory usage: 417.0+ KB\n"
     ]
    }
   ],
   "source": [
    "items.info()"
   ]
  },
  {
   "cell_type": "code",
   "execution_count": 8,
   "id": "f38635e2-9e10-47cb-be61-53857213babe",
   "metadata": {},
   "outputs": [
    {
     "data": {
      "text/plain": "            item_id        sku_no  unit_length   unit_width  unit_height  \\\ncount   7622.000000  7.114000e+03  7622.000000  7622.000000  7622.000000   \nmean    9634.173183  6.313149e+06     6.342267     4.147844     1.943269   \nstd     7048.288945  9.914077e+06     1.854861     1.580922     1.478202   \nmin      744.000000  1.220300e+04     0.100000     0.200000     0.000000   \n25%     4099.500000  5.000452e+05     5.100000     3.000000     0.900000   \n50%     7782.500000  8.316485e+05     6.100000     3.800000     1.400000   \n75%    13471.500000  2.735132e+06     7.600000     5.000000     2.600000   \nmax    26945.000000  2.456319e+07    12.800000    11.100000    10.100000   \n\n            weight  \ncount  7622.000000  \nmean      0.552853  \nstd       0.701571  \nmin       0.001200  \n25%       0.125000  \n50%       0.300000  \n75%       0.700000  \nmax       9.200000  ",
      "text/html": "<div>\n<style scoped>\n    .dataframe tbody tr th:only-of-type {\n        vertical-align: middle;\n    }\n\n    .dataframe tbody tr th {\n        vertical-align: top;\n    }\n\n    .dataframe thead th {\n        text-align: right;\n    }\n</style>\n<table border=\"1\" class=\"dataframe\">\n  <thead>\n    <tr style=\"text-align: right;\">\n      <th></th>\n      <th>item_id</th>\n      <th>sku_no</th>\n      <th>unit_length</th>\n      <th>unit_width</th>\n      <th>unit_height</th>\n      <th>weight</th>\n    </tr>\n  </thead>\n  <tbody>\n    <tr>\n      <th>count</th>\n      <td>7622.000000</td>\n      <td>7.114000e+03</td>\n      <td>7622.000000</td>\n      <td>7622.000000</td>\n      <td>7622.000000</td>\n      <td>7622.000000</td>\n    </tr>\n    <tr>\n      <th>mean</th>\n      <td>9634.173183</td>\n      <td>6.313149e+06</td>\n      <td>6.342267</td>\n      <td>4.147844</td>\n      <td>1.943269</td>\n      <td>0.552853</td>\n    </tr>\n    <tr>\n      <th>std</th>\n      <td>7048.288945</td>\n      <td>9.914077e+06</td>\n      <td>1.854861</td>\n      <td>1.580922</td>\n      <td>1.478202</td>\n      <td>0.701571</td>\n    </tr>\n    <tr>\n      <th>min</th>\n      <td>744.000000</td>\n      <td>1.220300e+04</td>\n      <td>0.100000</td>\n      <td>0.200000</td>\n      <td>0.000000</td>\n      <td>0.001200</td>\n    </tr>\n    <tr>\n      <th>25%</th>\n      <td>4099.500000</td>\n      <td>5.000452e+05</td>\n      <td>5.100000</td>\n      <td>3.000000</td>\n      <td>0.900000</td>\n      <td>0.125000</td>\n    </tr>\n    <tr>\n      <th>50%</th>\n      <td>7782.500000</td>\n      <td>8.316485e+05</td>\n      <td>6.100000</td>\n      <td>3.800000</td>\n      <td>1.400000</td>\n      <td>0.300000</td>\n    </tr>\n    <tr>\n      <th>75%</th>\n      <td>13471.500000</td>\n      <td>2.735132e+06</td>\n      <td>7.600000</td>\n      <td>5.000000</td>\n      <td>2.600000</td>\n      <td>0.700000</td>\n    </tr>\n    <tr>\n      <th>max</th>\n      <td>26945.000000</td>\n      <td>2.456319e+07</td>\n      <td>12.800000</td>\n      <td>11.100000</td>\n      <td>10.100000</td>\n      <td>9.200000</td>\n    </tr>\n  </tbody>\n</table>\n</div>"
     },
     "execution_count": 8,
     "metadata": {},
     "output_type": "execute_result"
    }
   ],
   "source": [
    "items.describe()"
   ]
  },
  {
   "cell_type": "markdown",
   "id": "df51cf15-9101-4e1c-8e2c-2aa8068e1199",
   "metadata": {},
   "source": [
    "#### graspTypes object overview"
   ]
  },
  {
   "cell_type": "code",
   "execution_count": 9,
   "id": "97326113-1462-44f8-9422-6859d2924814",
   "metadata": {},
   "outputs": [
    {
     "data": {
      "text/plain": "   id          name        description\n0   0  suction_only       suction only\n1   1       default  suction + fingers\n2   2    stabilized   stabilized grasp",
      "text/html": "<div>\n<style scoped>\n    .dataframe tbody tr th:only-of-type {\n        vertical-align: middle;\n    }\n\n    .dataframe tbody tr th {\n        vertical-align: top;\n    }\n\n    .dataframe thead th {\n        text-align: right;\n    }\n</style>\n<table border=\"1\" class=\"dataframe\">\n  <thead>\n    <tr style=\"text-align: right;\">\n      <th></th>\n      <th>id</th>\n      <th>name</th>\n      <th>description</th>\n    </tr>\n  </thead>\n  <tbody>\n    <tr>\n      <th>0</th>\n      <td>0</td>\n      <td>suction_only</td>\n      <td>suction only</td>\n    </tr>\n    <tr>\n      <th>1</th>\n      <td>1</td>\n      <td>default</td>\n      <td>suction + fingers</td>\n    </tr>\n    <tr>\n      <th>2</th>\n      <td>2</td>\n      <td>stabilized</td>\n      <td>stabilized grasp</td>\n    </tr>\n  </tbody>\n</table>\n</div>"
     },
     "execution_count": 9,
     "metadata": {},
     "output_type": "execute_result"
    }
   ],
   "source": [
    "graspTypes.head()"
   ]
  },
  {
   "cell_type": "code",
   "execution_count": 10,
   "id": "36039c64-dd97-4954-a939-eaa89d597a08",
   "metadata": {},
   "outputs": [
    {
     "data": {
      "text/plain": "(3, 3)"
     },
     "execution_count": 10,
     "metadata": {},
     "output_type": "execute_result"
    }
   ],
   "source": [
    "graspTypes.shape"
   ]
  },
  {
   "cell_type": "code",
   "execution_count": 11,
   "id": "bbb666ee-e561-46fa-a220-1805fc3260cf",
   "metadata": {},
   "outputs": [
    {
     "name": "stdout",
     "output_type": "stream",
     "text": [
      "<class 'pandas.core.frame.DataFrame'>\n",
      "RangeIndex: 3 entries, 0 to 2\n",
      "Data columns (total 3 columns):\n",
      " #   Column       Non-Null Count  Dtype \n",
      "---  ------       --------------  ----- \n",
      " 0   id           3 non-null      int64 \n",
      " 1   name         3 non-null      object\n",
      " 2   description  3 non-null      object\n",
      "dtypes: int64(1), object(2)\n",
      "memory usage: 200.0+ bytes\n"
     ]
    }
   ],
   "source": [
    "graspTypes.info()"
   ]
  },
  {
   "cell_type": "markdown",
   "id": "2f4196e1-98df-429c-af8b-d74c14c52631",
   "metadata": {},
   "source": [
    "#### SuctionCups object overview"
   ]
  },
  {
   "cell_type": "code",
   "execution_count": 12,
   "id": "20e7fa3c-26a1-4ec3-ae5f-80d2b43ae885",
   "metadata": {},
   "outputs": [
    {
     "data": {
      "text/plain": "   id description                 name  minDim  maxDim  maxWeight\n0   0         any                  any    0.00       0       0.00\n1   1  small-25mm   swappable_vs_25_nr    0.25       5       0.80\n2   2      medium   swappable_b3_bgi34    2.00    1000       1.90\n3   3       large  swappable_vsa_63_nr    3.00    1000       6.60\n4   4         bag     swappable_bgx_48    1.90    1000       2.42\n5   5  small-18mm   swappable_vs_18_nr    0.18       5       0.80",
      "text/html": "<div>\n<style scoped>\n    .dataframe tbody tr th:only-of-type {\n        vertical-align: middle;\n    }\n\n    .dataframe tbody tr th {\n        vertical-align: top;\n    }\n\n    .dataframe thead th {\n        text-align: right;\n    }\n</style>\n<table border=\"1\" class=\"dataframe\">\n  <thead>\n    <tr style=\"text-align: right;\">\n      <th></th>\n      <th>id</th>\n      <th>description</th>\n      <th>name</th>\n      <th>minDim</th>\n      <th>maxDim</th>\n      <th>maxWeight</th>\n    </tr>\n  </thead>\n  <tbody>\n    <tr>\n      <th>0</th>\n      <td>0</td>\n      <td>any</td>\n      <td>any</td>\n      <td>0.00</td>\n      <td>0</td>\n      <td>0.00</td>\n    </tr>\n    <tr>\n      <th>1</th>\n      <td>1</td>\n      <td>small-25mm</td>\n      <td>swappable_vs_25_nr</td>\n      <td>0.25</td>\n      <td>5</td>\n      <td>0.80</td>\n    </tr>\n    <tr>\n      <th>2</th>\n      <td>2</td>\n      <td>medium</td>\n      <td>swappable_b3_bgi34</td>\n      <td>2.00</td>\n      <td>1000</td>\n      <td>1.90</td>\n    </tr>\n    <tr>\n      <th>3</th>\n      <td>3</td>\n      <td>large</td>\n      <td>swappable_vsa_63_nr</td>\n      <td>3.00</td>\n      <td>1000</td>\n      <td>6.60</td>\n    </tr>\n    <tr>\n      <th>4</th>\n      <td>4</td>\n      <td>bag</td>\n      <td>swappable_bgx_48</td>\n      <td>1.90</td>\n      <td>1000</td>\n      <td>2.42</td>\n    </tr>\n    <tr>\n      <th>5</th>\n      <td>5</td>\n      <td>small-18mm</td>\n      <td>swappable_vs_18_nr</td>\n      <td>0.18</td>\n      <td>5</td>\n      <td>0.80</td>\n    </tr>\n  </tbody>\n</table>\n</div>"
     },
     "execution_count": 12,
     "metadata": {},
     "output_type": "execute_result"
    }
   ],
   "source": [
    "suctionCups.head(n=10)"
   ]
  },
  {
   "cell_type": "code",
   "execution_count": 13,
   "id": "47194001-f5b4-43e2-9afb-24daf50a5e64",
   "metadata": {},
   "outputs": [
    {
     "data": {
      "text/plain": "(6, 6)"
     },
     "execution_count": 13,
     "metadata": {},
     "output_type": "execute_result"
    }
   ],
   "source": [
    "suctionCups.shape"
   ]
  },
  {
   "cell_type": "code",
   "execution_count": 14,
   "id": "3c520d53-e9a2-4774-bdab-2ef8f69df817",
   "metadata": {},
   "outputs": [
    {
     "name": "stdout",
     "output_type": "stream",
     "text": [
      "<class 'pandas.core.frame.DataFrame'>\n",
      "RangeIndex: 6 entries, 0 to 5\n",
      "Data columns (total 6 columns):\n",
      " #   Column       Non-Null Count  Dtype  \n",
      "---  ------       --------------  -----  \n",
      " 0   id           6 non-null      int64  \n",
      " 1   description  6 non-null      object \n",
      " 2   name         6 non-null      object \n",
      " 3   minDim       6 non-null      float64\n",
      " 4   maxDim       6 non-null      int64  \n",
      " 5   maxWeight    6 non-null      float64\n",
      "dtypes: float64(2), int64(2), object(2)\n",
      "memory usage: 416.0+ bytes\n"
     ]
    }
   ],
   "source": [
    "suctionCups.info()"
   ]
  },
  {
   "cell_type": "markdown",
   "id": "b5c42ada-79ef-4f99-90fe-2e34ebcabc8f",
   "metadata": {},
   "source": [
    "#### itemConfig object overview"
   ]
  },
  {
   "cell_type": "code",
   "execution_count": 15,
   "id": "1be844fc-03ea-4ab7-a08d-68c52f0020c4",
   "metadata": {},
   "outputs": [
    {
     "data": {
      "text/plain": "    item_id  suction_cup_id                 name  arm_config        name.1\n0       823               5   swappable_vs_18_nr           1       default\n1       763               0                  any           1       default\n2      7116               3  swappable_vsa_63_nr           1       default\n3       766               0                  any           1       default\n4       767               0                  any           0  suction_only\n..      ...             ...                  ...         ...           ...\n95    13424               3  swappable_vsa_63_nr           1       default\n96     3763               4     swappable_bgx_48           2    stabilized\n97     3926               4     swappable_bgx_48           1       default\n98     4878               4     swappable_bgx_48           2    stabilized\n99     4917               4     swappable_bgx_48           1       default\n\n[100 rows x 5 columns]",
      "text/html": "<div>\n<style scoped>\n    .dataframe tbody tr th:only-of-type {\n        vertical-align: middle;\n    }\n\n    .dataframe tbody tr th {\n        vertical-align: top;\n    }\n\n    .dataframe thead th {\n        text-align: right;\n    }\n</style>\n<table border=\"1\" class=\"dataframe\">\n  <thead>\n    <tr style=\"text-align: right;\">\n      <th></th>\n      <th>item_id</th>\n      <th>suction_cup_id</th>\n      <th>name</th>\n      <th>arm_config</th>\n      <th>name.1</th>\n    </tr>\n  </thead>\n  <tbody>\n    <tr>\n      <th>0</th>\n      <td>823</td>\n      <td>5</td>\n      <td>swappable_vs_18_nr</td>\n      <td>1</td>\n      <td>default</td>\n    </tr>\n    <tr>\n      <th>1</th>\n      <td>763</td>\n      <td>0</td>\n      <td>any</td>\n      <td>1</td>\n      <td>default</td>\n    </tr>\n    <tr>\n      <th>2</th>\n      <td>7116</td>\n      <td>3</td>\n      <td>swappable_vsa_63_nr</td>\n      <td>1</td>\n      <td>default</td>\n    </tr>\n    <tr>\n      <th>3</th>\n      <td>766</td>\n      <td>0</td>\n      <td>any</td>\n      <td>1</td>\n      <td>default</td>\n    </tr>\n    <tr>\n      <th>4</th>\n      <td>767</td>\n      <td>0</td>\n      <td>any</td>\n      <td>0</td>\n      <td>suction_only</td>\n    </tr>\n    <tr>\n      <th>...</th>\n      <td>...</td>\n      <td>...</td>\n      <td>...</td>\n      <td>...</td>\n      <td>...</td>\n    </tr>\n    <tr>\n      <th>95</th>\n      <td>13424</td>\n      <td>3</td>\n      <td>swappable_vsa_63_nr</td>\n      <td>1</td>\n      <td>default</td>\n    </tr>\n    <tr>\n      <th>96</th>\n      <td>3763</td>\n      <td>4</td>\n      <td>swappable_bgx_48</td>\n      <td>2</td>\n      <td>stabilized</td>\n    </tr>\n    <tr>\n      <th>97</th>\n      <td>3926</td>\n      <td>4</td>\n      <td>swappable_bgx_48</td>\n      <td>1</td>\n      <td>default</td>\n    </tr>\n    <tr>\n      <th>98</th>\n      <td>4878</td>\n      <td>4</td>\n      <td>swappable_bgx_48</td>\n      <td>2</td>\n      <td>stabilized</td>\n    </tr>\n    <tr>\n      <th>99</th>\n      <td>4917</td>\n      <td>4</td>\n      <td>swappable_bgx_48</td>\n      <td>1</td>\n      <td>default</td>\n    </tr>\n  </tbody>\n</table>\n<p>100 rows × 5 columns</p>\n</div>"
     },
     "execution_count": 15,
     "metadata": {},
     "output_type": "execute_result"
    }
   ],
   "source": [
    "itemConfigs.head(n=100)"
   ]
  },
  {
   "cell_type": "code",
   "execution_count": 16,
   "id": "eeeeb5b0-4c77-4f84-8e72-da46e2b472b0",
   "metadata": {},
   "outputs": [
    {
     "data": {
      "text/plain": "(10819, 5)"
     },
     "execution_count": 16,
     "metadata": {},
     "output_type": "execute_result"
    }
   ],
   "source": [
    "itemConfigs.shape"
   ]
  },
  {
   "cell_type": "code",
   "execution_count": 17,
   "id": "31e9f695-5c32-492b-9e34-796fffb773ec",
   "metadata": {},
   "outputs": [
    {
     "name": "stdout",
     "output_type": "stream",
     "text": [
      "<class 'pandas.core.frame.DataFrame'>\n",
      "RangeIndex: 10819 entries, 0 to 10818\n",
      "Data columns (total 5 columns):\n",
      " #   Column          Non-Null Count  Dtype \n",
      "---  ------          --------------  ----- \n",
      " 0   item_id         10819 non-null  int64 \n",
      " 1   suction_cup_id  10819 non-null  int64 \n",
      " 2   name            10819 non-null  object\n",
      " 3   arm_config      10819 non-null  int64 \n",
      " 4   name.1          10819 non-null  object\n",
      "dtypes: int64(3), object(2)\n",
      "memory usage: 422.7+ KB\n"
     ]
    }
   ],
   "source": [
    "itemConfigs.info()"
   ]
  },
  {
   "cell_type": "code",
   "execution_count": 18,
   "id": "75ec5f18-d700-4c91-b44a-2e2d372e06ca",
   "metadata": {},
   "outputs": [
    {
     "data": {
      "text/plain": "name\nswappable_bgx_48       3775\nswappable_vs_25_nr     3696\nswappable_vsa_63_nr    1910\nany                     812\nswappable_vs_18_nr      626\nName: count, dtype: int64"
     },
     "execution_count": 18,
     "metadata": {},
     "output_type": "execute_result"
    }
   ],
   "source": [
    "itemConfigs['name'].value_counts()"
   ]
  },
  {
   "cell_type": "code",
   "execution_count": 19,
   "id": "30eb18cb-7a76-41c0-ab5f-ef2471773aa3",
   "metadata": {},
   "outputs": [
    {
     "data": {
      "text/plain": "(0, 5)"
     },
     "execution_count": 19,
     "metadata": {},
     "output_type": "execute_result"
    }
   ],
   "source": [
    "itemConfigs.groupby('item_id').filter(lambda x: len(x)>1).shape"
   ]
  },
  {
   "cell_type": "markdown",
   "id": "753e34c8-33dd-4180-85cb-75f94c09f0d6",
   "metadata": {},
   "source": [
    "## Data Cleaning\n",
    "\n",
    "After a preliminary data inspection, it is evident that the dataset contains incorrect data types and null values. Additionally, it is frequently observed that text fields contains noisy punctuations, such as quote and semicolons, which should be eliminated. Performing data cleaning is crucial at this stage to eradicate such records and ensure the cleanliness of your data."
   ]
  },
  {
   "cell_type": "markdown",
   "id": "cec33b7f-43f8-44cd-850e-243cb208040a",
   "metadata": {
    "tags": []
   },
   "source": [
    "### Item object\n",
    "* Many item rows doesn't have SKU#\n",
    "* Item ID should be a string since we are not going to do numeric manipulation on it.\n",
    "* SKU # should be a string field without the trailing .0\n",
    "* item_description is a text field. We probably want to take a deeper look\n",
    "* len/wid/hgt doesn't quite fit our purpose. Making dim1, dim2 and dim3 in a asc/desc order makes more sense "
   ]
  },
  {
   "cell_type": "code",
   "execution_count": 20,
   "id": "99a11656-c542-497e-9989-600a186d556d",
   "metadata": {},
   "outputs": [],
   "source": [
    "# drop null\n",
    "items.dropna(subset=['sku_no'], inplace=True)"
   ]
  },
  {
   "cell_type": "code",
   "execution_count": 21,
   "id": "0aac5103-7d05-4d32-ad6a-ad2002314861",
   "metadata": {},
   "outputs": [
    {
     "data": {
      "text/plain": "(7114, 7)"
     },
     "execution_count": 21,
     "metadata": {},
     "output_type": "execute_result"
    }
   ],
   "source": [
    "items.shape"
   ]
  },
  {
   "cell_type": "code",
   "execution_count": 22,
   "id": "f6033316-d018-442d-afe3-9f4c8b3d2abf",
   "metadata": {},
   "outputs": [],
   "source": [
    "# reformat sku_no field\n",
    "items['sku_no'] = items['sku_no'].astype(str).str.rstrip('.0')"
   ]
  },
  {
   "cell_type": "code",
   "execution_count": 23,
   "id": "183aae6a-afb2-4647-8339-440c886eeac9",
   "metadata": {},
   "outputs": [
    {
     "data": {
      "text/plain": "      item_id    sku_no  unit_length  unit_width  unit_height  weight  \\\n3790     6683    800301         5.90         5.3         1.30   0.200   \n756     24900  24526138         7.00         4.4         2.40   0.585   \n3808     4955    889545         6.95         5.4         0.30   0.130   \n3520     4516   2618975         6.00         2.5         0.34   0.100   \n1996    12518    388687         7.70         5.0         3.60   2.200   \n\n                         item_description  \n3790  PAD COLD COMPRESS 4X5                \n756   P2 910/912 ONLIN ENRL KIT            \n3808  NO HEAT LUGGAGE TAG W/LOOP CLR       \n3520  SPLS UNV SLIM STYLUS BL              \n1996  RUBBERBAND #84-1LB                   ",
      "text/html": "<div>\n<style scoped>\n    .dataframe tbody tr th:only-of-type {\n        vertical-align: middle;\n    }\n\n    .dataframe tbody tr th {\n        vertical-align: top;\n    }\n\n    .dataframe thead th {\n        text-align: right;\n    }\n</style>\n<table border=\"1\" class=\"dataframe\">\n  <thead>\n    <tr style=\"text-align: right;\">\n      <th></th>\n      <th>item_id</th>\n      <th>sku_no</th>\n      <th>unit_length</th>\n      <th>unit_width</th>\n      <th>unit_height</th>\n      <th>weight</th>\n      <th>item_description</th>\n    </tr>\n  </thead>\n  <tbody>\n    <tr>\n      <th>3790</th>\n      <td>6683</td>\n      <td>800301</td>\n      <td>5.90</td>\n      <td>5.3</td>\n      <td>1.30</td>\n      <td>0.200</td>\n      <td>PAD COLD COMPRESS 4X5</td>\n    </tr>\n    <tr>\n      <th>756</th>\n      <td>24900</td>\n      <td>24526138</td>\n      <td>7.00</td>\n      <td>4.4</td>\n      <td>2.40</td>\n      <td>0.585</td>\n      <td>P2 910/912 ONLIN ENRL KIT</td>\n    </tr>\n    <tr>\n      <th>3808</th>\n      <td>4955</td>\n      <td>889545</td>\n      <td>6.95</td>\n      <td>5.4</td>\n      <td>0.30</td>\n      <td>0.130</td>\n      <td>NO HEAT LUGGAGE TAG W/LOOP CLR</td>\n    </tr>\n    <tr>\n      <th>3520</th>\n      <td>4516</td>\n      <td>2618975</td>\n      <td>6.00</td>\n      <td>2.5</td>\n      <td>0.34</td>\n      <td>0.100</td>\n      <td>SPLS UNV SLIM STYLUS BL</td>\n    </tr>\n    <tr>\n      <th>1996</th>\n      <td>12518</td>\n      <td>388687</td>\n      <td>7.70</td>\n      <td>5.0</td>\n      <td>3.60</td>\n      <td>2.200</td>\n      <td>RUBBERBAND #84-1LB</td>\n    </tr>\n  </tbody>\n</table>\n</div>"
     },
     "execution_count": 23,
     "metadata": {},
     "output_type": "execute_result"
    }
   ],
   "source": [
    "items.sample(5)"
   ]
  },
  {
   "cell_type": "code",
   "execution_count": 24,
   "id": "30427eb7-3701-40f9-8329-0a5efc69993e",
   "metadata": {},
   "outputs": [
    {
     "name": "stdout",
     "output_type": "stream",
     "text": [
      "!\"#$%&'()*+,-./:;<=>?@[\\]^_`{|}~\n"
     ]
    }
   ],
   "source": [
    "# check punctuation\n",
    "import string\n",
    "\n",
    "print(string.punctuation)\n",
    "mask = items['item_description'].str.contains(f\"[{string.punctuation}]\")"
   ]
  },
  {
   "cell_type": "code",
   "execution_count": 25,
   "id": "55e5f88b-fe44-4a49-8545-2598f7e76dfc",
   "metadata": {},
   "outputs": [
    {
     "data": {
      "text/plain": "      item_id    sku_no  unit_length  unit_width  unit_height  weight  \\\n2232    26337  24540519         6.90        3.70         1.70   0.600   \n5056    24414    388754         5.95        4.00         0.45   0.035   \n932      4946   2498461         8.90        8.00         0.30   0.300   \n4242    26008   2396606         5.50        3.70         0.01   0.010   \n4400     1019    504704         2.70        2.50         0.70   0.100   \n5291     5356  24411834         7.50        5.38         0.18   0.110   \n5728     6884     72565         3.10        2.70         0.30   0.020   \n1857    15990    635867         6.70        3.20         2.80   0.300   \n1338     3643    440642         4.00        4.00         1.30   0.300   \n1835     9147    778936         6.10        3.00         1.20   0.600   \n\n                         item_description  \n2232  130W GAN  USB-C 4-PORT CHARGER       \n5056  32GB PRO USB 3.0                     \n932   STAPLES BLUE MOUSE PAD 2/PACK        \n4242  64GB STORENGO 2 USB-C BLU            \n4400  TAPE HIGHLAND INV REF .5X1296        \n5291  NORTON AV+ AR WEB                    \n5728  POST-IT 1/2 FLAG NEON 4PK            \n1857  TEA APPLE CINNAMON 28CT.B            \n1338  LBL C/CODE ALPHA-K ROLL              \n1835  POSTIT NTS 3X3 POP-UP JAIPUR         ",
      "text/html": "<div>\n<style scoped>\n    .dataframe tbody tr th:only-of-type {\n        vertical-align: middle;\n    }\n\n    .dataframe tbody tr th {\n        vertical-align: top;\n    }\n\n    .dataframe thead th {\n        text-align: right;\n    }\n</style>\n<table border=\"1\" class=\"dataframe\">\n  <thead>\n    <tr style=\"text-align: right;\">\n      <th></th>\n      <th>item_id</th>\n      <th>sku_no</th>\n      <th>unit_length</th>\n      <th>unit_width</th>\n      <th>unit_height</th>\n      <th>weight</th>\n      <th>item_description</th>\n    </tr>\n  </thead>\n  <tbody>\n    <tr>\n      <th>2232</th>\n      <td>26337</td>\n      <td>24540519</td>\n      <td>6.90</td>\n      <td>3.70</td>\n      <td>1.70</td>\n      <td>0.600</td>\n      <td>130W GAN  USB-C 4-PORT CHARGER</td>\n    </tr>\n    <tr>\n      <th>5056</th>\n      <td>24414</td>\n      <td>388754</td>\n      <td>5.95</td>\n      <td>4.00</td>\n      <td>0.45</td>\n      <td>0.035</td>\n      <td>32GB PRO USB 3.0</td>\n    </tr>\n    <tr>\n      <th>932</th>\n      <td>4946</td>\n      <td>2498461</td>\n      <td>8.90</td>\n      <td>8.00</td>\n      <td>0.30</td>\n      <td>0.300</td>\n      <td>STAPLES BLUE MOUSE PAD 2/PACK</td>\n    </tr>\n    <tr>\n      <th>4242</th>\n      <td>26008</td>\n      <td>2396606</td>\n      <td>5.50</td>\n      <td>3.70</td>\n      <td>0.01</td>\n      <td>0.010</td>\n      <td>64GB STORENGO 2 USB-C BLU</td>\n    </tr>\n    <tr>\n      <th>4400</th>\n      <td>1019</td>\n      <td>504704</td>\n      <td>2.70</td>\n      <td>2.50</td>\n      <td>0.70</td>\n      <td>0.100</td>\n      <td>TAPE HIGHLAND INV REF .5X1296</td>\n    </tr>\n    <tr>\n      <th>5291</th>\n      <td>5356</td>\n      <td>24411834</td>\n      <td>7.50</td>\n      <td>5.38</td>\n      <td>0.18</td>\n      <td>0.110</td>\n      <td>NORTON AV+ AR WEB</td>\n    </tr>\n    <tr>\n      <th>5728</th>\n      <td>6884</td>\n      <td>72565</td>\n      <td>3.10</td>\n      <td>2.70</td>\n      <td>0.30</td>\n      <td>0.020</td>\n      <td>POST-IT 1/2 FLAG NEON 4PK</td>\n    </tr>\n    <tr>\n      <th>1857</th>\n      <td>15990</td>\n      <td>635867</td>\n      <td>6.70</td>\n      <td>3.20</td>\n      <td>2.80</td>\n      <td>0.300</td>\n      <td>TEA APPLE CINNAMON 28CT.B</td>\n    </tr>\n    <tr>\n      <th>1338</th>\n      <td>3643</td>\n      <td>440642</td>\n      <td>4.00</td>\n      <td>4.00</td>\n      <td>1.30</td>\n      <td>0.300</td>\n      <td>LBL C/CODE ALPHA-K ROLL</td>\n    </tr>\n    <tr>\n      <th>1835</th>\n      <td>9147</td>\n      <td>778936</td>\n      <td>6.10</td>\n      <td>3.00</td>\n      <td>1.20</td>\n      <td>0.600</td>\n      <td>POSTIT NTS 3X3 POP-UP JAIPUR</td>\n    </tr>\n  </tbody>\n</table>\n</div>"
     },
     "execution_count": 25,
     "metadata": {},
     "output_type": "execute_result"
    }
   ],
   "source": [
    "items[mask].sample(10)"
   ]
  },
  {
   "cell_type": "code",
   "execution_count": 26,
   "id": "64f9eaf5-076d-48ba-8177-ff5ad681be4c",
   "metadata": {},
   "outputs": [],
   "source": [
    "# remove punctuation\n",
    "unwantedChar = '\\'\"&'\n",
    "for c in unwantedChar:\n",
    "    items['item_description'] = items['item_description'].str.replace(c, '')"
   ]
  },
  {
   "cell_type": "code",
   "execution_count": 27,
   "id": "333ce41c-c79f-4103-8a23-189b57551896",
   "metadata": {},
   "outputs": [],
   "source": [
    "# reformat len/width/hgt to dim1/2/3\n",
    "items['dim1'] = items[['unit_length', 'unit_width', 'unit_height']].apply(max, axis=1)\n",
    "items['dim2'] = items[['unit_length', 'unit_width', 'unit_height']].apply(lambda x: sorted(x)[1], axis=1)\n",
    "items['dim3'] = items[['unit_length', 'unit_width', 'unit_height']].apply(min, axis=1)"
   ]
  },
  {
   "cell_type": "markdown",
   "id": "bbfae780-10e1-426c-9421-be9fa4348059",
   "metadata": {},
   "source": [
    "## Suction Cup Selection Logic\n",
    "In this section, our main focus will be on developing the selection logic. The selection logic consists of a series of conditional statements with expandable rules. To ensure flexibility for future rule additions, we can leverage object-oriented programming (OOP) concepts. By adopting an OOP approach, we can easily incorporate new rules into the existing framework."
   ]
  },
  {
   "cell_type": "markdown",
   "id": "470b57c2-4ad3-45f1-9927-97fb3d56dc25",
   "metadata": {
    "tags": []
   },
   "source": [
    "### Item Objects\n",
    "The base of OOP is object. Pandas dataframe provides conveninent utilities for data manipulation, but it is not designed for OOP. For implementing selection logic, I would like to convert item to a object which is easier to access later on."
   ]
  },
  {
   "cell_type": "code",
   "execution_count": 28,
   "id": "074e736f-504b-4b39-93d1-47ed953eac36",
   "metadata": {},
   "outputs": [
    {
     "data": {
      "text/plain": "      item_id    sku_no  unit_length  unit_width  unit_height  weight  \\\n0       12810  24287592         8.40        3.70         2.30   2.100   \n1       19327   1266017         5.50        5.50         8.40   1.470   \n2       24874  24529912        10.00        8.05         2.60   0.720   \n3       15205    565284         6.85        2.70         2.65   1.285   \n4       13444   2610177         9.20        8.10         6.70   1.300   \n...       ...       ...          ...         ...          ...     ...   \n7617    11997     49616         5.30        3.70         1.50   0.600   \n7618     9779    664524         6.30        3.50         1.80   0.700   \n7619    17560    478187         7.80        5.50         2.90   1.400   \n7620    10738    735767         5.00        4.90         1.40   0.300   \n7621    25235   2451602         8.55        5.80         0.20   0.160   \n\n                         item_description   dim1  dim2  dim3  \n0     SILK PURE ALMOND UNSWT VAN            8.40  3.70  2.30  \n1     NEO-GEL 48PC TUB BLU                  8.40  5.50  5.50  \n2     FULL SIZE HOT GLUE GUN               10.00  8.05  2.60  \n3     TAPE DISPENSER                        6.85  2.70  2.65  \n4     DESKTOP DRAWER SYSTEM SMALL           9.20  8.10  6.70  \n...                                   ...    ...   ...   ...  \n7617  LAMINATING POUCH  BADGE SIZE          5.30  3.70  1.50  \n7618  SDFC MULTIPLICATION 0-12              6.30  3.50  1.80  \n7619  NUTRA GRAIN RASPBERRY-BX              7.80  5.50  2.90  \n7620  MAGIC TAPE 1/2X2592 3IN 2PK           5.00  4.90  1.40  \n7621  RY23 AAG 2P/MO RFL 5X8 MNTH           8.55  5.80  0.20  \n\n[7114 rows x 10 columns]",
      "text/html": "<div>\n<style scoped>\n    .dataframe tbody tr th:only-of-type {\n        vertical-align: middle;\n    }\n\n    .dataframe tbody tr th {\n        vertical-align: top;\n    }\n\n    .dataframe thead th {\n        text-align: right;\n    }\n</style>\n<table border=\"1\" class=\"dataframe\">\n  <thead>\n    <tr style=\"text-align: right;\">\n      <th></th>\n      <th>item_id</th>\n      <th>sku_no</th>\n      <th>unit_length</th>\n      <th>unit_width</th>\n      <th>unit_height</th>\n      <th>weight</th>\n      <th>item_description</th>\n      <th>dim1</th>\n      <th>dim2</th>\n      <th>dim3</th>\n    </tr>\n  </thead>\n  <tbody>\n    <tr>\n      <th>0</th>\n      <td>12810</td>\n      <td>24287592</td>\n      <td>8.40</td>\n      <td>3.70</td>\n      <td>2.30</td>\n      <td>2.100</td>\n      <td>SILK PURE ALMOND UNSWT VAN</td>\n      <td>8.40</td>\n      <td>3.70</td>\n      <td>2.30</td>\n    </tr>\n    <tr>\n      <th>1</th>\n      <td>19327</td>\n      <td>1266017</td>\n      <td>5.50</td>\n      <td>5.50</td>\n      <td>8.40</td>\n      <td>1.470</td>\n      <td>NEO-GEL 48PC TUB BLU</td>\n      <td>8.40</td>\n      <td>5.50</td>\n      <td>5.50</td>\n    </tr>\n    <tr>\n      <th>2</th>\n      <td>24874</td>\n      <td>24529912</td>\n      <td>10.00</td>\n      <td>8.05</td>\n      <td>2.60</td>\n      <td>0.720</td>\n      <td>FULL SIZE HOT GLUE GUN</td>\n      <td>10.00</td>\n      <td>8.05</td>\n      <td>2.60</td>\n    </tr>\n    <tr>\n      <th>3</th>\n      <td>15205</td>\n      <td>565284</td>\n      <td>6.85</td>\n      <td>2.70</td>\n      <td>2.65</td>\n      <td>1.285</td>\n      <td>TAPE DISPENSER</td>\n      <td>6.85</td>\n      <td>2.70</td>\n      <td>2.65</td>\n    </tr>\n    <tr>\n      <th>4</th>\n      <td>13444</td>\n      <td>2610177</td>\n      <td>9.20</td>\n      <td>8.10</td>\n      <td>6.70</td>\n      <td>1.300</td>\n      <td>DESKTOP DRAWER SYSTEM SMALL</td>\n      <td>9.20</td>\n      <td>8.10</td>\n      <td>6.70</td>\n    </tr>\n    <tr>\n      <th>...</th>\n      <td>...</td>\n      <td>...</td>\n      <td>...</td>\n      <td>...</td>\n      <td>...</td>\n      <td>...</td>\n      <td>...</td>\n      <td>...</td>\n      <td>...</td>\n      <td>...</td>\n    </tr>\n    <tr>\n      <th>7617</th>\n      <td>11997</td>\n      <td>49616</td>\n      <td>5.30</td>\n      <td>3.70</td>\n      <td>1.50</td>\n      <td>0.600</td>\n      <td>LAMINATING POUCH  BADGE SIZE</td>\n      <td>5.30</td>\n      <td>3.70</td>\n      <td>1.50</td>\n    </tr>\n    <tr>\n      <th>7618</th>\n      <td>9779</td>\n      <td>664524</td>\n      <td>6.30</td>\n      <td>3.50</td>\n      <td>1.80</td>\n      <td>0.700</td>\n      <td>SDFC MULTIPLICATION 0-12</td>\n      <td>6.30</td>\n      <td>3.50</td>\n      <td>1.80</td>\n    </tr>\n    <tr>\n      <th>7619</th>\n      <td>17560</td>\n      <td>478187</td>\n      <td>7.80</td>\n      <td>5.50</td>\n      <td>2.90</td>\n      <td>1.400</td>\n      <td>NUTRA GRAIN RASPBERRY-BX</td>\n      <td>7.80</td>\n      <td>5.50</td>\n      <td>2.90</td>\n    </tr>\n    <tr>\n      <th>7620</th>\n      <td>10738</td>\n      <td>735767</td>\n      <td>5.00</td>\n      <td>4.90</td>\n      <td>1.40</td>\n      <td>0.300</td>\n      <td>MAGIC TAPE 1/2X2592 3IN 2PK</td>\n      <td>5.00</td>\n      <td>4.90</td>\n      <td>1.40</td>\n    </tr>\n    <tr>\n      <th>7621</th>\n      <td>25235</td>\n      <td>2451602</td>\n      <td>8.55</td>\n      <td>5.80</td>\n      <td>0.20</td>\n      <td>0.160</td>\n      <td>RY23 AAG 2P/MO RFL 5X8 MNTH</td>\n      <td>8.55</td>\n      <td>5.80</td>\n      <td>0.20</td>\n    </tr>\n  </tbody>\n</table>\n<p>7114 rows × 10 columns</p>\n</div>"
     },
     "execution_count": 28,
     "metadata": {},
     "output_type": "execute_result"
    }
   ],
   "source": [
    "items"
   ]
  },
  {
   "cell_type": "code",
   "execution_count": 29,
   "id": "5ef118a7-f1b7-40f0-ae86-c5dfb9f629f7",
   "metadata": {},
   "outputs": [],
   "source": [
    "# here I imported item Object from the SuctionCupRules.py\n",
    "from SuctionCupRules import Item"
   ]
  },
  {
   "cell_type": "code",
   "execution_count": 30,
   "id": "3ac83c35-b670-40eb-9699-74ecf96d8e54",
   "metadata": {},
   "outputs": [],
   "source": [
    "# Initiate Map/dict to contain items\n",
    "# the key should be the item ID, the value is the Item object: {1: item1, 2:item2, ...}\n",
    "itemMap = {}\n",
    "\n",
    "# Make a for loop to go through the dataframe and put each row into a object\n",
    "for idx, row in items.iterrows():\n",
    "    itemMap[row['item_id']] = Item(row.item_id, row.sku_no, row.dim1, row.dim2, row.dim3, row.weight, row.item_description)"
   ]
  },
  {
   "cell_type": "code",
   "execution_count": 31,
   "id": "347936f5-cf64-46ff-b9c3-614f31d4b676",
   "metadata": {},
   "outputs": [
    {
     "name": "stdout",
     "output_type": "stream",
     "text": [
      "item_id:12810;\n",
      "sku_no:24287592;\n",
      "dim1:8.4;\n",
      "dim2:3.7;\n",
      "dim3:2.3;\n",
      "weight:2.1;\n",
      "item_description:SILK PURE ALMOND UNSWT VAN         ;\n",
      "suctionCupConfig:set();\n",
      "\n"
     ]
    }
   ],
   "source": [
    "print(itemMap[12810])"
   ]
  },
  {
   "cell_type": "markdown",
   "id": "fc5b2a02-9369-4176-9103-df3da5e27500",
   "metadata": {
    "tags": []
   },
   "source": [
    "### Rule Object\n",
    "Instead of hardcoding the selection rules, a more flexible approach would be to leverage object-oriented programming (OOP) concepts. This involves encapsulating the rules into separate Rule objects and applying them dynamically during the selection process. Let's compare the two styles:\n",
    "\n",
    "**Naive if flow**: \n",
    "```Python\n",
    "# rule one\n",
    "if foo>bar and ....:\n",
    "    do something here\n",
    "# rule two \n",
    "if foo<bar and ....:\n",
    "    do other things here\n",
    "# rule three, four, ...\n",
    "...\n",
    "```\n",
    "\n",
    "In this approach, the selection logic is directly implemented within the code, making it less adaptable to changes in rules or the need for additional rules. Modifying the selection criteria requires manual changes to the code, which can be error-prone and time-consuming.\n",
    "\n",
    "----\n",
    "\n",
    "**OOP**:\n",
    "```Python\n",
    "rules = [rule1, rule2, rule3, rule4, ...]\n",
    "for rule in rules:\n",
    "    rule.apply(item)\n",
    "...\n",
    "```\n",
    "\n",
    "By using OOP concepts, we can encapsulate the selection rules into separate Rule objects. Each Rule object represents a specific selection criterion and can be easily modified or extended without affecting the overall structure of the code. The rules can be organized into a cohesive hierarchy, allowing for better organization and maintainability.\n",
    "\n",
    "During the selection process, the Rule objects can be dynamically applied based on the desired criteria. This flexibility enables easy addition, modification, or removal of rules, providing a more scalable and adaptable solution.\n"
   ]
  },
  {
   "cell_type": "markdown",
   "id": "d3d04104-26a9-4832-9e06-906c7b4572a7",
   "metadata": {},
   "source": [
    "### Check the rule in SuctionCupRules.py for implementation\n",
    "\n",
    "Below is the process of how to run the suction cup selection"
   ]
  },
  {
   "cell_type": "code",
   "execution_count": 64,
   "id": "e78af1fe-efbc-4019-847a-16ea1423a939",
   "metadata": {},
   "outputs": [],
   "source": [
    "# Import the rules from the file\n",
    "from SuctionCupRules import *\n",
    "\n",
    "# create the rule list\n",
    "# Removed the rules for medium suction cup as we don't use it currently.\n",
    "rules = [MiniCupRule, MiniCupPreferred1SORule, MiniCupPreferred2, \n",
    "         SmallCupRule, SmallCupPreferredCase3SO, SmallCupPreferredCase2, SmallCupPreferredCase1,\n",
    "         BagCupRule, BagCupPreferred2, BagCupPreferred1,\n",
    "         LargeCupRule, BigCupPreferredCase1, BigCupPreferredCase2SO, BigCupPreferredCase3]"
   ]
  },
  {
   "cell_type": "code",
   "execution_count": 69,
   "id": "15a45840-dab6-44bd-9455-ce4630550d4d",
   "metadata": {},
   "outputs": [],
   "source": [
    "# run through the items and apply MiniCupPreferred1SO rule:\n",
    "itemSample = []\n",
    "# loop over items and rules\n",
    "for itemId, item in itemMap.items():\n",
    "    for rule in rules:\n",
    "        if rule().isEligible(item):\n",
    "            item.addSuctionCupConfig(rule().getConfig())\n",
    "    # if nothing fits, use BaseRule as default\n",
    "    if len(item.getSuctionCupConfig()) == 0:\n",
    "        item.addSuctionCupConfig(BaseRule().getConfig())"
   ]
  },
  {
   "cell_type": "code",
   "execution_count": 70,
   "id": "3101494e-3f7e-4b66-a942-a18143a13531",
   "metadata": {},
   "outputs": [
    {
     "name": "stdout",
     "output_type": "stream",
     "text": [
      "item_id:10662;\n",
      "sku_no:24428137;\n",
      "dim1:5.9;\n",
      "dim2:3.1;\n",
      "dim3:1.2;\n",
      "weight:0.25;\n",
      "item_description:PM PROFILE GEL 0.7MM 12CD BLK      ;\n",
      "suctionCupConfig:{(<SuctionCup.any: 0>, <GraspType.default: 1>)};\n",
      "\n",
      "item_id:4091;\n",
      "sku_no:24468673;\n",
      "dim1:5.1;\n",
      "dim2:5.0;\n",
      "dim3:3.7;\n",
      "weight:0.985;\n",
      "item_description:5-PORT SWITCH                      ;\n",
      "suctionCupConfig:{(<SuctionCup.swappable_vsa_63_nr: 3>, <GraspType.default: 1>), (<SuctionCup.swappable_bgx_48: 4>, <GraspType.default: 1>)};\n",
      "\n",
      "item_id:971;\n",
      "sku_no:398378;\n",
      "dim1:2.55;\n",
      "dim2:2.3;\n",
      "dim3:1.2;\n",
      "weight:0.075;\n",
      "item_description:2-CLR PRE-INKED STAMP   PAID       ;\n",
      "suctionCupConfig:{(<SuctionCup.swappable_vs_25_nr: 1>, <GraspType.default: 1>), (<SuctionCup.swappable_vs_18_nr: 5>, <GraspType.default: 1>)};\n",
      "\n"
     ]
    }
   ],
   "source": [
    "# show top n examples\n",
    "import random\n",
    "n = 3\n",
    "for i in range(n):\n",
    "    print(random.choice(list(itemMap.values())))"
   ]
  }
 ],
 "metadata": {
  "kernelspec": {
   "display_name": "Python 3 (ipykernel)",
   "language": "python",
   "name": "python3"
  },
  "language_info": {
   "codemirror_mode": {
    "name": "ipython",
    "version": 3
   },
   "file_extension": ".py",
   "mimetype": "text/x-python",
   "name": "python",
   "nbconvert_exporter": "python",
   "pygments_lexer": "ipython3",
   "version": "3.9.7"
  }
 },
 "nbformat": 4,
 "nbformat_minor": 5
}
