{
 "cells": [
  {
   "cell_type": "markdown",
   "id": "a10937c9-e672-492b-ba92-30d54049dc4f",
   "metadata": {
    "tags": []
   },
   "source": [
    "# A/B Test\n",
    "This notebook tries to explain the math behind AB test and how to apply it to our suction cup selection data validation"
   ]
  },
  {
   "cell_type": "code",
   "execution_count": 1,
   "id": "5672be0c-9e4f-48cb-93ff-0552eddab7e9",
   "metadata": {},
   "outputs": [],
   "source": [
    "import numpy as np\n",
    "import matplotlib.pyplot as plt"
   ]
  },
  {
   "cell_type": "markdown",
   "id": "8223d31e-5c86-4834-be43-b74fed8d4f37",
   "metadata": {
    "tags": []
   },
   "source": [
    "## Distribution\n",
    "\n",
    "In mathematics, a distribution is a mathematical object that describes the behavior or characteristics of a set of data points or a random variable.\n",
    "\n",
    "Distributions are widely used in various branches of mathematics, statistics, and applied fields to model and analyze real-world phenomena. They provide a way to represent and understand the patterns, probabilities, and properties of data or random variables.\n",
    "\n",
    "Some commonly encountered distributions include:\n",
    "\n",
    "* Uniform Distribution: The uniform distribution represents a continuous probability distribution where all outcomes within a given range are equally likely. It is often used to model situations where all values have the same likelihood of occurrence.\n",
    "\n",
    "* Binomial Distribution: The binomial distribution represents the probability distribution of the number of successes in a fixed number of independent Bernoulli trials. It is often used to model binary outcomes or events with two possible outcomes.\n",
    "\n",
    "* Normal Distribution (Gaussian Distribution): The normal distribution is a continuous probability distribution that is symmetric and bell-shaped. It is characterized by its mean and standard deviation and is widely used in statistical inference and modeling.\n"
   ]
  },
  {
   "cell_type": "markdown",
   "id": "afb94be0-6c06-4049-adb9-36a8b32565af",
   "metadata": {},
   "source": [
    "## Common Metrics for Distribution\n",
    "\n",
    "Mean:\n",
    "$\\mu = \\frac{\\sum_{i=1}^{n}(x_i)}{n}$\n",
    "\n",
    "Standard Deviation\n",
    "$\\sigma = \\sqrt{\\frac{1}{n} \\sum_{i=1}^{n}(x_i - \\mu)^2}$"
   ]
  },
  {
   "cell_type": "markdown",
   "id": "a5da05c2-4531-4f2d-9404-e7f037d600a3",
   "metadata": {},
   "source": [
    "## Uniform Distribution\n",
    "\n",
    "The uniform distribution is a probability distribution in which all outcomes within a given range are equally likely. It is often represented as a rectangular-shaped distribution, where the probability density function (PDF) is constant over the range of possible values.\n",
    "\n",
    "The mathematical notation for a continuous uniform distribution is denoted as U(a, b), where 'a' and 'b' are the parameters representing the lower and upper bounds of the distribution, respectively.\n",
    "\n",
    "The PDF of the uniform distribution is defined as:\n",
    "\n",
    "$ f(x) = \\frac{1}{{b - a}}, \\quad \\text{for } a \\leq x \\leq b $\n",
    "\n",
    "\n",
    "Where:\n",
    "\n",
    "* f(x) represents the probability density function at a given value 'x'.\n",
    "* 'a' represents the lower bound of the distribution.\n",
    "* 'b' represents the upper bound of the distribution.\n",
    "\n",
    "The cumulative distribution function (CDF) of the uniform distribution is a linear function that increases uniformly from 0 to 1 over the range (a, b). It is defined as:\n",
    "\n",
    "$F(x) = \n",
    "\\begin{cases}\n",
    "    0, & \\text{for } x < a \\\\\n",
    "    \\frac{{x - a}}{{b - a}}, & \\text{for } a \\leq x \\leq b \\\\\n",
    "    1, & \\text{for } x > b \\\\\n",
    "\\end{cases}$\n",
    "The mean (μ) and variance (σ^2) of the uniform distribution can be calculated using the following formulas:\n",
    "\n",
    "$ \\mu = \\frac{a + b}{2} $\n",
    "\n",
    "$ \\sigma^2 = \\frac{(b - a)^2}{12} $\n",
    "\n",
    "The mean represents the center of the distribution, and the variance measures the spread or dispersion of the data points within the range.\n",
    "\n",
    "The uniform distribution is often used in situations where all outcomes within a specific interval have equal probability. For example, when modeling the roll of a fair die or selecting a random number from a known range.\n",
    "\n",
    "Note that there are discrete versions of the uniform distribution as well, where the outcomes are equally likely among a finite set of values. The mathematical concepts discussed here primarily apply to the continuous uniform distribution.\n"
   ]
  },
  {
   "cell_type": "code",
   "execution_count": 107,
   "id": "80009e0e-b442-40f1-99fa-e754c72ddfc4",
   "metadata": {},
   "outputs": [
    {
     "data": {
      "text/plain": [
       "array([0.16759108, 0.79428153, 0.94011117, 0.00397354, 0.01489653,\n",
       "       0.33870155, 0.8504876 , 0.55000313, 0.2923061 , 0.6059914 ])"
      ]
     },
     "execution_count": 107,
     "metadata": {},
     "output_type": "execute_result"
    }
   ],
   "source": [
    "import numpy as np\n",
    "\n",
    "# Generate a random number from a uniform distribution between 0 and 1\n",
    "np.random.uniform(0, 1, size=10)"
   ]
  },
  {
   "cell_type": "code",
   "execution_count": 109,
   "id": "29085f03-b4f4-4d1c-a386-c190f27236e0",
   "metadata": {},
   "outputs": [
    {
     "data": {
      "image/png": "[encoded data removed]",
      "text/plain": [
       "<Figure size 432x288 with 1 Axes>"
      ]
     },
     "metadata": {
      "needs_background": "light"
     },
     "output_type": "display_data"
    }
   ],
   "source": [
    "n = int(1e6)\n",
    "sample = np.random.uniform(0, 1, size=n)\n",
    "\n",
    "# Plot the histogram of the sample\n",
    "plt.hist(sample, bins=30, alpha=0.7, label='Sample Histogram')\n",
    "\n",
    "# Display the plot\n",
    "plt.show()"
   ]
  },
  {
   "cell_type": "markdown",
   "id": "bc4b94d0-5415-48eb-94d1-1e555a229c30",
   "metadata": {},
   "source": [
    "## Bernoulli Distribution\n",
    "\n",
    "The Bernoulli distribution is a discrete probability distribution that models a single binary outcome or event with two possible outcomes: success (usually denoted as 1) and failure (usually denoted as 0).\n",
    "\n",
    "The probability mass function (PMF) of the Bernoulli distribution is given by:\n",
    "\n",
    "$P(X = x) = p^{x} * (1 - p)^{1 - x}$\n",
    "\n",
    "Where:\n",
    "p is the probability of success.\n",
    "\n",
    "The PMF states that the probability of the outcome being x is given by p if x = 1 (success) or 1 - p if x = 0 (failure).\n",
    "\n",
    "The mean (μ) and variance (σ^2) of the Bernoulli distribution can be calculated as follows:\n",
    "\n",
    "$\\mu = p$\n",
    "\n",
    "$\\sigma^2 = p * (1 - p)$\n",
    "\n",
    "The mean represents the average value or probability of success, and the variance measures the spread or dispersion of the data points around the mean.\n",
    "\n",
    "The Bernoulli distribution is commonly used to model binary events or situations with two possible outcomes, such as flipping a coin (heads or tails), passing or failing an exam, or the success or failure of a single trial.\n",
    "\n",
    "It's important to note that the Bernoulli distribution assumes that each trial is independent and has a constant probability of success (p) for each trial."
   ]
  },
  {
   "cell_type": "code",
   "execution_count": 112,
   "id": "6f24d83f-9472-44ea-b7be-942e4b63f180",
   "metadata": {},
   "outputs": [
    {
     "data": {
      "text/plain": [
       "array([1, 0, 0, 1, 1, 0, 0, 1, 1, 1])"
      ]
     },
     "execution_count": 112,
     "metadata": {},
     "output_type": "execute_result"
    }
   ],
   "source": [
    "# Define the size\n",
    "n = int(1e6)\n",
    "\n",
    "# Define the probability of success (p)\n",
    "p = 0.3\n",
    "\n",
    "# Perform a Bernoulli trial\n",
    "sample = np.random.choice([0, 1], p=[1-p, p], size = n)\n",
    "\n",
    "sample[0:10]"
   ]
  },
  {
   "cell_type": "code",
   "execution_count": 113,
   "id": "572720f7-9ae0-4233-b9cf-07d7568232b7",
   "metadata": {},
   "outputs": [
    {
     "data": {
      "image/png": "[encoded data removed]",
      "text/plain": [
       "<Figure size 432x288 with 1 Axes>"
      ]
     },
     "metadata": {
      "needs_background": "light"
     },
     "output_type": "display_data"
    },
    {
     "name": "stdout",
     "output_type": "stream",
     "text": [
      "sample mean: 0.300051, calculated mean: 0.3\n",
      "sample var: 0.21002039739899997, calculated var: 0.21\n"
     ]
    }
   ],
   "source": [
    "# Plot the histogram of the sample\n",
    "plt.hist(sample, bins=30, alpha=0.7, label='Sample Histogram')\n",
    "\n",
    "# Display the plot\n",
    "plt.show()\n",
    "\n",
    "# show mean\n",
    "print(f\"sample mean: {sample.mean()}, calculated mean: {p}\")\n",
    "print(f\"sample var: {sample.var()}, calculated var: {p*(1-p)}\")"
   ]
  },
  {
   "cell_type": "markdown",
   "id": "00a391eb-f427-4b89-8f97-2e3b0c2507e6",
   "metadata": {},
   "source": [
    "## Binomial distribution\n",
    "\n",
    "The binomial distribution is a discrete probability distribution that models the number of successes in a fixed number of independent **Bernoulli** trials. It is characterized by two parameters: the number of trials (n) and the probability of success in each trial (p).\n",
    "\n",
    "The probability mass function (PMF) of the binomial distribution is given by:\n",
    "\n",
    "$P(X = k) = \\binom{n}{k} * p^{k} * (1 - p)^{n - k}$\n",
    "\n",
    "Where:\n",
    "\n",
    "* X is the random variable representing the number of successes.\n",
    "* k is the number of successes (0, 1, 2, ..., n).\n",
    "* $\\binom{n}{k}$ is the binomial coefficient, also known as \"n choose k\" or the number of ways to choose k items from a set of n items. It can be calculated as: C(n, k) = n! / (k! * (n - k)!), where \"!\" denotes the factorial function.\n",
    "* p is the probability of success in each trial.\n",
    "* n is the total number of trials.\n",
    "\n",
    "The mean (μ) and variance (σ^2) of the binomial distribution can be calculated as follows:\n",
    "\n",
    "$  \\mu = n * p $\n",
    "\n",
    "$ \\sigma^2 = n * p * (1 - p) $\n",
    "\n",
    "The mean represents the average number of successes in the given number of trials, and the variance measures the spread or dispersion of the data points around the mean.\n",
    "\n",
    "The binomial distribution is commonly used to model situations with two possible outcomes (success or failure) in a fixed number of independent trials. Examples include flipping a coin, rolling a die, or counting the number of defective items in a batch of production.\n",
    "\n",
    "It's important to note that the binomial distribution assumes each trial is independent and has the same probability of success (p)."
   ]
  },
  {
   "cell_type": "code",
   "execution_count": 114,
   "id": "0dc2cfe0-aeb1-4ee3-ada0-0194fd9c7b81",
   "metadata": {},
   "outputs": [
    {
     "data": {
      "image/png": "[encoded data removed]",
      "text/plain": [
       "<Figure size 432x288 with 1 Axes>"
      ]
     },
     "metadata": {
      "needs_background": "light"
     },
     "output_type": "display_data"
    },
    {
     "name": "stdout",
     "output_type": "stream",
     "text": [
      "sample mean: 30.006, calculated mean: 30.0\n",
      "sample var: 20.345964, calculated var: 21.0\n"
     ]
    }
   ],
   "source": [
    "n_trial = int(1000)\n",
    "n = 100\n",
    "p = 0.3\n",
    "\n",
    "sample = np.zeros(n_trial)\n",
    "\n",
    "for i in range(n_trial):\n",
    "    trials = np.random.choice([0, 1], p=[1-p, p], size = n)\n",
    "    sample[i] = trials.sum()\n",
    "\n",
    "# Plot the histogram of the sample\n",
    "plt.hist(sample, bins=30, alpha=0.7, label='Sample Histogram')\n",
    "\n",
    "# Display the plot\n",
    "plt.show()\n",
    "\n",
    "# show mean\n",
    "print(f\"sample mean: {sample.mean()}, calculated mean: {n*p}\")\n",
    "print(f\"sample var: {sample.var()}, calculated var: {n*p*(1-p)}\")"
   ]
  },
  {
   "cell_type": "markdown",
   "id": "23f0caf8-df7d-4b22-bb2c-e7f029c78cc1",
   "metadata": {},
   "source": [
    "## Normal Distribution\n",
    "\n"
   ]
  },
  {
   "cell_type": "markdown",
   "id": "bd00335f-e88e-43e2-8633-3992334c2ccc",
   "metadata": {},
   "source": [
    "The normal distribution, also known as the Gaussian distribution or bell curve, is a continuous probability distribution that is symmetric and characterized by its mean ($\\mu$) and standard deviation ($\\sigma$). The probability density function (PDF) of the normal distribution is given by:\n",
    "\n",
    "$f(x) = \\frac{1}{\\sqrt{2\\pi\\sigma^2}} \\exp\\left(-\\frac{(x - \\mu)^2}{2\\sigma^2}\\right)$\n",
    "\n",
    "where:\n",
    "\n",
    "* $x$ represents the random variable\n",
    "* $\\mu$ represents the mean of the distribution\n",
    "* $\\sigma$ represents the standard deviation of the distribution\n",
    "\n",
    "The PDF describes the relative likelihood of obtaining a specific value $x$ from the distribution.\n",
    "\n",
    "where $f(t)$ is the PDF of the normal distribution. Unfortunately, the CDF does not have a closed-form expression, so it is typically calculated using numerical methods or precomputed tables.\n",
    "\n",
    "The mean ($\\mu$) of the normal distribution determines the location of the peak of the bell curve, while the standard deviation ($\\sigma$) controls the spread or width of the curve. The larger the standard deviation, the wider the distribution.\n",
    "\n",
    "The normal distribution is widely used in statistics and various fields due to its many desirable properties, such as its symmetry, the **central limit theorem**, and its applicability to many natural phenomena.\n",
    "\n",
    "If X follows normal distribution, usually we use to \n",
    "\n",
    "$X  \\sim N(\\mu, \\sigma^{2})$\n"
   ]
  },
  {
   "cell_type": "code",
   "execution_count": 115,
   "id": "e20789d0-a9f3-4dfe-9964-9708c4d5f600",
   "metadata": {},
   "outputs": [
    {
     "data": {
      "image/png": "[encoded data removed]",
      "text/plain": [
       "<Figure size 432x288 with 1 Axes>"
      ]
     },
     "metadata": {
      "needs_background": "light"
     },
     "output_type": "display_data"
    }
   ],
   "source": [
    "# draw the norm dist pdf\n",
    "from scipy.stats import norm\n",
    "x= np.arange(-4,4,0.001)\n",
    "plt.plot(x, norm.pdf(x))\n",
    "plt.show()"
   ]
  },
  {
   "cell_type": "code",
   "execution_count": 116,
   "id": "91475c31-e1c1-47a4-9b42-194e6720be5c",
   "metadata": {},
   "outputs": [
    {
     "data": {
      "image/png": "[encoded data removed]",
      "text/plain": [
       "<Figure size 432x288 with 1 Axes>"
      ]
     },
     "metadata": {
      "needs_background": "light"
     },
     "output_type": "display_data"
    }
   ],
   "source": [
    "# draw pdf with different coef\n",
    "fig, ax = plt.subplots()\n",
    "x = np.linspace(-10,10,100)\n",
    "stdvs = [1.0, 2.0, 3.0, 4.0]\n",
    "for s in stdvs:\n",
    "    ax.plot(x, norm.pdf(x,scale=s), label='stdv=%.1f' % s)\n",
    "    \n",
    "ax.set_xlabel('x')\n",
    "ax.set_ylabel('pdf(x)')\n",
    "ax.set_title('Normal Distribution')\n",
    "ax.legend(loc='best', frameon=True)\n",
    "ax.set_ylim(0,0.45)\n",
    "ax.grid(True)"
   ]
  },
  {
   "cell_type": "code",
   "execution_count": 117,
   "id": "9e67a1bb-fabf-480a-a98c-ef84242aae82",
   "metadata": {},
   "outputs": [
    {
     "data": {
      "image/png": "[encoded data removed]",
      "text/plain": [
       "<Figure size 432x288 with 1 Axes>"
      ]
     },
     "metadata": {
      "needs_background": "light"
     },
     "output_type": "display_data"
    }
   ],
   "source": [
    "# draw pdf with different mean\n",
    "fig, ax = plt.subplots()\n",
    "x = np.linspace(-10,10,100)\n",
    "means = [0.0, 1.0, 2.0, 5.0]\n",
    "for mean in means:\n",
    "    ax.plot(x, norm.pdf(x,loc=mean), label='mean=%.1f' % mean)\n",
    "    \n",
    "ax.set_xlabel('x')\n",
    "ax.set_ylabel('pdf(x)')\n",
    "ax.set_title('Normal Distribution')\n",
    "ax.legend(loc='best', frameon=True)\n",
    "ax.set_ylim(0,0.45)\n",
    "ax.grid(True)"
   ]
  },
  {
   "cell_type": "code",
   "execution_count": 118,
   "id": "7aea1cd6-e92e-4596-8e8b-dd4adc93d8bc",
   "metadata": {},
   "outputs": [
    {
     "name": "stdout",
     "output_type": "stream",
     "text": [
      "[ 1.39189645 -0.82532811  0.94139577 -0.38219622 -0.50838713  0.86062174\n",
      " -0.74853162  1.56168325 -0.33247171 -0.14163258]\n"
     ]
    }
   ],
   "source": [
    "# sample from the norm dist\n",
    "sample= np.random.normal(0, 1, 10)\n",
    "print(sample)"
   ]
  },
  {
   "cell_type": "code",
   "execution_count": 120,
   "id": "53a46c0a-2d69-4103-8fb3-d2c02668eaf7",
   "metadata": {},
   "outputs": [
    {
     "data": {
      "image/png": "[encoded data removed]",
      "text/plain": [
       "<Figure size 432x288 with 1 Axes>"
      ]
     },
     "metadata": {
      "needs_background": "light"
     },
     "output_type": "display_data"
    },
    {
     "name": "stdout",
     "output_type": "stream",
     "text": [
      "sample mean: -0.0008792162394881638, calculated mean: 0\n",
      "sample var: 1.0025709944383558, calculated var: 1\n"
     ]
    }
   ],
   "source": [
    "n = int(1e6)\n",
    "m = 0\n",
    "std = 1\n",
    "\n",
    "sample = np.random.normal(m, std, n)\n",
    "\n",
    "# Plot the histogram of the sample\n",
    "plt.hist(sample, bins=30, alpha=0.7, label='Sample Histogram')\n",
    "\n",
    "# Display the plot\n",
    "plt.show()\n",
    "\n",
    "# show mean\n",
    "print(f\"sample mean: {sample.mean()}, calculated mean: {m}\")\n",
    "print(f\"sample var: {sample.var()}, calculated var: {std**2}\")"
   ]
  },
  {
   "cell_type": "code",
   "execution_count": 121,
   "id": "05a8cdfc-fc49-42bc-8974-9f6d96e32a88",
   "metadata": {},
   "outputs": [],
   "source": [
    "# CDF of norm\n",
    "from scipy.stats import norm\n",
    "m = 0\n",
    "std = 1\n",
    "x = 0"
   ]
  },
  {
   "cell_type": "code",
   "execution_count": 122,
   "id": "41da4e35-4d16-4ff0-9c2f-55544df48e7c",
   "metadata": {},
   "outputs": [
    {
     "data": {
      "text/plain": [
       "0.5"
      ]
     },
     "execution_count": 122,
     "metadata": {},
     "output_type": "execute_result"
    }
   ],
   "source": [
    "norm.cdf(x=x, loc=m, scale=std)"
   ]
  },
  {
   "cell_type": "code",
   "execution_count": 123,
   "id": "f76695e9-1670-4599-a24c-2af966ed5177",
   "metadata": {},
   "outputs": [
    {
     "data": {
      "image/png": "[encoded data removed]",
      "text/plain": [
       "<Figure size 432x288 with 1 Axes>"
      ]
     },
     "metadata": {
      "needs_background": "light"
     },
     "output_type": "display_data"
    }
   ],
   "source": [
    "# Plot\n",
    "fig, ax = plt.subplots()\n",
    "# for distribution curve\n",
    "x= np.arange(-4,10,0.001)\n",
    "ax.plot(x, norm.pdf(x,loc=3,scale=2))\n",
    "ax.set_title(\"N(3,$2^2$)\")\n",
    "ax.set_xlabel('x')\n",
    "ax.set_ylabel('pdf(x)')\n",
    "ax.grid(True)\n",
    "# for fill_between\n",
    "px=np.arange(-4,2,0.01)\n",
    "ax.set_ylim(0,0.25)\n",
    "ax.fill_between(px,norm.pdf(px,loc=3,scale=2),alpha=0.5, color='g')\n",
    "plt.show()"
   ]
  },
  {
   "cell_type": "markdown",
   "id": "12185b97-fe81-4f3d-8eef-35c964856466",
   "metadata": {},
   "source": [
    "### Normal Distribution Quantile"
   ]
  },
  {
   "cell_type": "code",
   "execution_count": 125,
   "id": "fe60bdbc-7286-4073-95f7-d505a36d4955",
   "metadata": {},
   "outputs": [
    {
     "data": {
      "text/plain": [
       "1.6448536269514722"
      ]
     },
     "execution_count": 125,
     "metadata": {},
     "output_type": "execute_result"
    }
   ],
   "source": [
    "# To find the x value when P(X<x) = 0.95\n",
    "norm.ppf(q=0.95, loc=0, scale=1)"
   ]
  },
  {
   "cell_type": "code",
   "execution_count": 126,
   "id": "4990fe9a-e5fa-4a1f-a4e1-44d4404c35eb",
   "metadata": {},
   "outputs": [
    {
     "data": {
      "image/png": "[encoded data removed]",
      "text/plain": [
       "<Figure size 432x288 with 1 Axes>"
      ]
     },
     "metadata": {
      "needs_background": "light"
     },
     "output_type": "display_data"
    }
   ],
   "source": [
    "#plot\n",
    "fig, ax = plt.subplots()\n",
    "x= np.arange(-10,10,0.001)\n",
    "ax.plot(x, norm.pdf(x,loc=0,scale=1))\n",
    "ax.set_title(\"N(0,$1^2$)\")\n",
    "ax.set_xlabel('x')\n",
    "ax.set_ylabel('pdf(x)')\n",
    "ax.grid(True)\n",
    "xpoint=norm.ppf(q=0.95, loc=0, scale=1)\n",
    "px=np.arange(-10,xpoint,0.01)\n",
    "ax.set_ylim(0,0.4)\n",
    "ax.fill_between(px,norm.pdf(px,loc=0,scale=1),alpha=0.5, color='g')\n",
    "ax.text(.8,0.02,\"x= %.2f\" %xpoint, fontsize=20)\n",
    "ax.text(-5,0.05,\"P(X)=95%\", fontsize=20)\n",
    "plt.show()"
   ]
  },
  {
   "cell_type": "markdown",
   "id": "5d83012b-709f-4504-b91a-ac1fbe083c21",
   "metadata": {},
   "source": [
    "## Central Limit Theorem\n",
    "\n",
    "The Central Limit Theorem (CLT) states that under certain conditions, the sum (or average) of a large number of independent and identically distributed random variables will approximately follow a normal distribution, regardless of the shape of the original distribution.\n",
    "\n",
    "The key idea behind the Central Limit Theorem is that even if individual random variables may not follow a normal distribution, their sum tends to become more normally distributed as the number of variables increases.\n",
    "\n",
    "The conditions required for the Central Limit Theorem to hold are:\n",
    "\n",
    "Independence: The random variables should be independent of each other. This means that the outcome of one variable does not influence the outcome of any other variable.\n",
    "\n",
    "Identical distribution: The random variables should be drawn from the same probability distribution. They should have the same mean and variance.\n",
    "\n",
    "Finite variance: The random variables should have a finite variance. This condition ensures that the fluctuations in the variables do not become too extreme.\n",
    "\n",
    "The Central Limit Theorem has significant implications in statistics because it allows us to make inferences about population parameters based on sample data. It justifies the use of the normal distribution and related statistical tests in many practical scenarios, even if the underlying data may not be normally distributed.\n",
    "\n",
    "For example, if we take repeated samples of a population and calculate the mean of each sample, the distribution of those sample means will tend to follow a normal distribution. This enables us to make statements about the population mean and estimate confidence intervals.\n",
    "\n",
    "In summary, the Central Limit Theorem is a fundamental concept that states that the sum or average of a large number of independent and identically distributed random variables will tend to have a normal distribution, regardless of the original distribution, provided certain conditions are met."
   ]
  },
  {
   "cell_type": "markdown",
   "id": "5fa15462-ea1a-47ff-b4c6-5bf286b93df0",
   "metadata": {},
   "source": [
    "## Central Limit Theorem with Bernoulli Distribution\n",
    "\n",
    "Image you have a X follows Bernoulli distribution with P = p. According to CLT, the mean of X($\\hat{p}$) follows normal distribution. Let's try to model this normal distribution.\n",
    "\n",
    "The mean of the normal distribution is:\n",
    "$E(\\frac{\\sum_{i=1}^{n}{X_i}}{n}) = \\frac{nE(X)}{n} = E(X) = p$\n",
    "\n",
    "The var of the normal distribution is:\n",
    "$Var(\\frac{\\sum_{i=1}^{n}{X_i}}{n}) = \\frac{nVar(X)}{n^2} = \\frac{p(1-p)}{n}$\n",
    "\n",
    "Hence $\\hat{p}  \\sim N(p, \\frac{p(1-p)}{n})$\n"
   ]
  },
  {
   "cell_type": "markdown",
   "id": "d0d5d444-d3cf-4a6f-a766-10149ced4e5a",
   "metadata": {},
   "source": [
    "## AB Test on Bernoulli trials\n",
    "\n",
    "Imaging you have a website and you want to test if the new feature can increase the conversion rate of visitors. You split the users into group A and B. For the users in group A, the website will be loaded without the feature. On contrary, the feature is shown for users in group B. In other words, group A is our **control** group, group B is our **exp** group.\n",
    "\n",
    "You can consider each user visiting the website as a Bernoulli event, with two possible outcomes, clicke another link(1), or left(0). \n",
    "\n",
    "With n # of trials per group, and under the assumption of CLT, we can get the mean of the outcomes from group A follows a normal distribution\n",
    "\n",
    "$\\hat{p_A}  \\sim N(p_A, \\frac{p_A(1-p_A)}{n})$\n",
    "\n",
    "Same for group B.\n",
    "\n",
    "The next question is the mean of group A different from the mean of group B? If so, how big is the difference? This is the core of AB test. We can model the difference of the mean using(We can do this because each event is independent):\n",
    "\n",
    "\n",
    "$\\hat{p_B} - \\hat{p_A} = \\hat{d} \\sim N(d, Var(X_A)+Var(X_B))$\n",
    "\n",
    "$Var(X_A)+Var(X_B)$ can be calculated using pooled standard error $SE_{pool}^2$ as $p(1-p)(\\frac{1}{n_A} + \\frac{1}{n_B})$ \n",
    "Where $p = \\frac{p_A*n_A+p_B*n_B}{n_A+n_B}$\n",
    "\n",
    "**From here you can see that with larger N, the pooled standard error reduces. This is intuitive because with more examples, the sample mean is naturally closer to true mean hence less deviation.**\n",
    "\n",
    "\n",
    "\n",
    "#### The question of whether group A and B have the same mean equals to whether the d is 0 or not \n",
    "\n",
    "Using the concept of hypothesis testing, here we form the hypothesis:\n",
    "\n",
    "**Null Hypothesis**\n",
    "$h_0: d = 0 $\n",
    "\n",
    "**Alternative Hypothesis**\n",
    "$h_1: d > 0 $\n",
    "\n",
    "This hypothesis testing is the AB test."
   ]
  },
  {
   "cell_type": "markdown",
   "id": "8f65fa39-51a2-432a-aaa3-f178e991f797",
   "metadata": {
    "tags": []
   },
   "source": [
    "## Parameters on AB Test\n",
    "\n",
    "Now we know that the hypothesis testing is the core of AB test. To get the data to support the testing,  there are some concepts and parameters needed first.\n",
    "\n",
    "\n",
    "### Event Definition\n",
    "\n",
    "In our website conversion rate scenario, the event can be defined in multiple ways. You can say an event is an IP address visiting the website. Though the same IP can be shared with multiple users, hence it is not the best metric to track user consistency. Another way is define the event as a customer ID visiting the site. Those different ways of identification is called **unit of diversion**. The event outcome is binary, 0 means user left, 1 means user clicked another link.\n",
    " \n",
    "\n",
    "In the suction cup scenario, the event will just be a unit pick task assigned to the arm. The event outcome is also binary, 0 means the pick failed due to certain reasons, 1 means the pick succeeded.\n",
    "\n",
    "\n",
    "### Benchmark\n",
    "Benchmark is the baseline of the AB test. It is the mean of the control group. Since in reality you never know the true mean of the control group, we will just use the sample mean as the unbiased estimation. In our website conversion rate case, the benchmark is the $p_A$. In our suction cup case, the benchmark is the success rate of the tasks with suction cup used in control group.\n",
    "\n",
    "### Minimum Effect of Interest(MEI)\n",
    "\n",
    "It describes that how much difference is considered significant or meaningful in the analysis. Usually it is written as $d_{min}$. It could be absolute or relative. It defines the mean of the normal distribution of the exp group. We assumes that the exp group follows $N(p_A\\pm d_{min}, \\sigma^2)$. It is closely related to the size of the test. Say the benchmark p = 0.9, alpha is 0.05, and the MEI is set to 0.01. If the null hypothesis is rejected, then we can say that on 95% significance level, the conversion rate of exp group is at least 1% higher/lower than control group.\n",
    "\n",
    "\n",
    "### Significance(Alpha)\n",
    "\n",
    "In an A/B test, the term \"alpha\" refers to the significance level or the threshold for statistical significance. It is a predetermined level of probability that is used to determine whether the results of the test are statistically significant or not.\n",
    "\n",
    "Typically, the alpha level is set at 0.05, which means that there is a 5% chance of observing a significant difference between the two variations (A and B) of the test purely by chance. \n",
    "\n",
    "1 minus alpha is usually called as confidence level.\n",
    "\n",
    "\n",
    "### One-sided test or two-sided test?\n",
    "\n",
    "Sometimes they are called one-tail/two-tail test. The choice between a one-sided and two-sided test depends on the research question, the hypothesis being tested, and the prior expectations. One-sided tests are used when there is a specific directional hypothesis or a strong theoretical justification for focusing on a specific direction. Two-sided tests are generally more conservative, as they consider the possibility of a difference in either direction.\n",
    "\n",
    "In the website case, one side test makes more sense because we want to know if the new feature increases the converation rate. This is only one directional change. In suction cup case, we might do two-sided as we don't know which cup is better.\n",
    "\n",
    "\n",
    "### Power\n",
    "\n",
    "In an A/B test, the power refers to the probability of correctly rejecting the null hypothesis when it is false. It is a measure of the test's ability to detect a true effect or difference between the variations being compared (A and B) in the experiment.\n",
    "\n",
    "In statistical terms, power is influenced by several factors, including the sample size, MEI, significance level (alpha), and the variability of the data. A higher power indicates a higher chance of detecting a true effect if it exists.\n",
    "\n",
    "We usually use 80% as the power in the AB test.\n",
    "\n",
    "Good to know Beta: $\\beta = 1 - Power$\n",
    "\n",
    "\n",
    "Question:\n",
    "How would the below factor affect power:\n",
    "* Alpha\n",
    "* MEI\n",
    "* Standard Deviation of the Sample\n",
    "* Sample Size\n",
    "\n",
    "\n",
    "\n",
    "### Confusion Matrix\n",
    "\n",
    "This is the common matrix for evaluating the performance of a model or test.\n",
    "\n",
    "\n",
    "|                 | Predicted Negative | Predicted Positive |\n",
    "| --------------- | ------------------ | ------------------ |\n",
    "| Actual Negative | TN | FP |\n",
    "| Actual Positive | FN | TP |\n",
    "\n",
    "\n",
    "To link them with the parameters of the AB test:\n",
    "\n",
    "* TN -> 1 - alpha\n",
    "* TP -> Power\n",
    "* FN -> Beta\n",
    "* FP -> alpha\n",
    "\n",
    "### Sample Size\n",
    "\n",
    "The most important factor of AB test. The size of your sample determines the standarded error of $\\hat{d}$, which has direct impact to the statistics power.\n",
    "\n",
    "The sample size can be calculated with alpha, power, dmin and benchmark.\n",
    "\n",
    "\n",
    "$ n = \\frac{2\\sigma^2(-Z_{\\beta}+Z_{\\frac{\\alpha}{2}})^2}{d_{min}^2} $\n",
    "\n",
    "$\\sigma = \\sqrt{p(1-p)}$ when the size is the same for control and exp group. The p here could be the p of the control group or the pooled mean. \n",
    "\n"
   ]
  },
  {
   "cell_type": "markdown",
   "id": "febe9981-5a7f-4ff6-99ab-05af7ae01931",
   "metadata": {},
   "source": [
    "## Z test on $ d $ with corresponding size and alpha\n",
    "\n",
    "Once the size n has been calculated, we could perform the Z test as long as n > 30. \n",
    "\n",
    "Here are the steps:\n",
    "\n",
    "1. Calculate $d = p_B - p_A$, which is the mean of group B minus mean of group A. \n",
    "2. With the null hypothesis $\\hat{d} \\sim N(0, {SE}^{2})$, we can easily get confidence interval $ [-SE*Z_{\\frac{\\alpha}{2}}, SE*Z_{\\frac{\\alpha}{2}}] $, where SE = sqrt(p_pool*(1/n_ctl + 1/n_exp))\n",
    "3. Calculate the p value d represents.\n",
    "4. If d falls out of the range then we reject null hypothesis, meaning p < alpha/2, then reject the null hypothesis.\n",
    "\n"
   ]
  },
  {
   "cell_type": "markdown",
   "id": "5ee34b96-7026-4cf4-a47e-bce7fcdf2069",
   "metadata": {
    "tags": []
   },
   "source": [
    "## Example: Website Feature AB Test"
   ]
  },
  {
   "cell_type": "code",
   "execution_count": 5,
   "id": "5a3bf435-9e24-4966-a37a-f646970fef58",
   "metadata": {},
   "outputs": [
    {
     "name": "stdout",
     "output_type": "stream",
     "text": [
      "size:1089\n"
     ]
    }
   ],
   "source": [
    "from ABTestToolKit import get_two_sample_size_twosided, get_two_sample_Z_test_twosided\n",
    "\n",
    "# Parameters\n",
    "baseline = 0.85\n",
    "dmin = baseline*0.05\n",
    "alpha = 0.05\n",
    "power = 0.8\n",
    "\n",
    "# Find Size\n",
    "n = get_two_sample_size_twosided(alpha, power, dmin, baseline)\n",
    "print(f\"size:{n}\")"
   ]
  },
  {
   "cell_type": "code",
   "execution_count": 12,
   "id": "764008fe-7389-433f-8cf2-bccf16a74090",
   "metadata": {},
   "outputs": [
    {
     "name": "stdout",
     "output_type": "stream",
     "text": [
      "control mean: 0.6031990647252631\n",
      "experiment mean: 0.6054841109575938\n",
      "The confidence interval for the difference is [-0.0134, -0.0023, 0.0088]\n",
      "statistics: 0.4032185307706259\n",
      "The p value: 0.6867874686119646\n"
     ]
    },
    {
     "data": {
      "text/plain": [
       "(0.4032185307706259,\n",
       " 0.6867874686119646,\n",
       " -0.01339219527584741,\n",
       " 0.008822102811185964,\n",
       " -0.002285046232330723)"
      ]
     },
     "execution_count": 12,
     "metadata": {},
     "output_type": "execute_result"
    }
   ],
   "source": [
    "# Fake the data\n",
    "sample_ctl = np.random.choice([0, 1], p=[1-baseline, baseline], size = n)\n",
    "sample_exp = np.random.choice([0, 1], p=[1-(baseline+dmin), (baseline+dmin)], size = n)\n",
    "\n",
    "# run Z test\n",
    "get_two_sample_Z_test_twosided(n_ctl=n, x_ctl=sample_ctl.sum(), n_exp= n, x_exp=sample_exp.sum(), alpha=alpha)"
   ]
  },
  {
   "cell_type": "markdown",
   "id": "85f52c8b-3045-4b3f-8e69-536481822a97",
   "metadata": {},
   "source": [
    "## Takeaway: Experiment Document\n",
    "\n",
    "For every AB test, the first step is to create the experiment design document. I think this is what you need to put into the paper. Below I listed the necessary contents for a AB test experiment design. You need to fill the content in with the setup of the suction cup testing.\n",
    "\n",
    "1. Business Hypothesis: Why do we perform the AB test. The reason is we assume each suction cup performs differently on the same SKU. This is the business hypothesis.\n",
    "    1. Null hypothesis:\n",
    "    2. Goal of the experiment: \n",
    "    \n",
    "2. Unit of Measure/Randomization/Event definition: For us each arm task is a event.\n",
    "\n",
    "3. Outcome metric: What's the possible outcome of the event and how you categorize it.\n",
    "\n",
    "4. Size calculation: Here you should explain how the sample size is calculated with code examples. You can use the SKU picking data to get the p.\n",
    "\n",
    "5. Experiment setup: How do you plan to perform the test. I think there are two ways. One is to track the production tasking history until we got the enough sample. The other way is that we can ask the arm to pick the given SKU during off hours. This needs to be implemented in the future.\n",
    "\n",
    "6. Run experiment. How the data is cleaned and processed. How does the data look like.\n",
    "\n",
    "7. Result analysis. Tools and theories used. With code and example.\n",
    "\n",
    "\n"
   ]
  },
  {
   "cell_type": "code",
   "execution_count": null,
   "id": "53e68adb-4dd7-4d78-906d-6d3c5fe79b64",
   "metadata": {},
   "outputs": [],
   "source": []
  }
 ],
 "metadata": {
  "kernelspec": {
   "display_name": "Python 3 (ipykernel)",
   "language": "python",
   "name": "python3"
  },
  "language_info": {
   "codemirror_mode": {
    "name": "ipython",
    "version": 3
   },
   "file_extension": ".py",
   "mimetype": "text/x-python",
   "name": "python",
   "nbconvert_exporter": "python",
   "pygments_lexer": "ipython3",
   "version": "3.9.7"
  }
 },
 "nbformat": 4,
 "nbformat_minor": 5
}
