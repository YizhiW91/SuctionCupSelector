{
 "cells": [
  {
   "cell_type": "markdown",
   "id": "da69cbe3-3052-4b8f-8a1c-c48da42de1f1",
   "metadata": {
    "tags": []
   },
   "source": [
    "# Suction Cup Selector Project\n",
    "\n",
    "This is the notebook for the suction cup selector project."
   ]
  },
  {
   "cell_type": "markdown",
   "id": "8c88e451-f513-4b06-a1c6-ad67cb866e36",
   "metadata": {},
   "source": [
    "## Download the project\n",
    "\n",
    "If you have git installed, you should be able to pull the project down from the repository using the command:\n",
    "\n",
    "```bash\n",
    "git clone <url>\n",
    "```\n",
    "\n",
    "Once you cloned the project, you can switch the branch using:\n",
    "\n",
    "```bash\n",
    "git checkout <branchname>\n",
    "git checkout -b <yourownbranchname>\n",
    "```\n",
    "\n",
    "To confirm your change and add it to the git history, do:\n",
    "\n",
    "```bash\n",
    "git add .  #this is to stage all chagnes\n",
    "git status #this is to confirm the change\n",
    "git commit -m \"commit message\" #this is to finalize and commit the change\n",
    "```\n",
    "\n",
    "If you want to push your changes to repository, do:\n",
    "\n",
    "```bash\n",
    "git push -u origin <branchname>\n",
    "```\n",
    "\n",
    "To stage your changes for review, do pull request on Github\n"
   ]
  },
  {
   "cell_type": "markdown",
   "id": "54e9bb82-3d61-490d-b1ee-0bf403fcd193",
   "metadata": {},
   "source": [
    "## Environment setup\n",
    "For this project I choose to use Python 3.9 with Pandas/Jupyter library."
   ]
  },
  {
   "cell_type": "code",
   "execution_count": 2,
   "id": "69994ec7-ef9f-463c-9c61-065e54e7fb3c",
   "metadata": {},
   "outputs": [
    {
     "name": "stdout",
     "output_type": "stream",
     "text": [
      "3.9.7 (default, Sep 16 2021, 08:50:36) \n",
      "[Clang 10.0.0 ]\n"
     ]
    }
   ],
   "source": [
    "import sys\n",
    "print(sys.version)"
   ]
  },
  {
   "cell_type": "markdown",
   "id": "e8c75155-09af-4c08-a880-1ed6c824e1f7",
   "metadata": {},
   "source": [
    "To isolate the environment, here is how you create a virtual one for the project. Go to your project folder, open terminal/cmd and run the following command:\n",
    "\n",
    "```bash\n",
    "python3 -m venv myenv\n",
    "```\n",
    "\n",
    "To activate the environment, run the following command:\n",
    "```bash\n",
    "# for windows\n",
    "myenv\\Scripts\\activate\n",
    "\n",
    "# for Mac/Linux\n",
    "source myenv/bin/activate\n",
    "```"
   ]
  },
  {
   "cell_type": "markdown",
   "id": "eb98df45-8cef-49e2-9752-bb73c92527d3",
   "metadata": {},
   "source": [
    "## Data Processing\n",
    "The first step of the project is to process the flat files. There are multiple ways for doing data processing. Here we choose to use pandas library read_csv() method to load the csv files into pandas **dataframe** objects."
   ]
  },
  {
   "cell_type": "code",
   "execution_count": 2,
   "id": "25090c65-fce3-4157-935c-d97f99a3ea1a",
   "metadata": {},
   "outputs": [],
   "source": [
    "import pandas as pd\n",
    "\n",
    "suctionCups = pd.read_csv('SuctionCups.csv')\n",
    "graspTypes = pd.read_csv('GraspTypes.csv')\n",
    "items = pd.read_csv('items.csv')\n",
    "itemConfigs = pd.read_csv('itemConfigs.csv')"
   ]
  },
  {
   "cell_type": "markdown",
   "id": "349a7091-094e-4885-b8fa-e1d9d2beffd8",
   "metadata": {},
   "source": [
    "#### To see the type of the object, you can do type()\n"
   ]
  },
  {
   "cell_type": "code",
   "execution_count": 3,
   "id": "c9deaf3e-b851-4a11-bf39-e079bfd6306e",
   "metadata": {},
   "outputs": [
    {
     "data": {
      "text/plain": [
       "pandas.core.frame.DataFrame"
      ]
     },
     "execution_count": 3,
     "metadata": {},
     "output_type": "execute_result"
    }
   ],
   "source": [
    "type(items)"
   ]
  },
  {
   "cell_type": "markdown",
   "id": "73ee89aa-2982-407f-846d-f17a8a72b3fc",
   "metadata": {
    "tags": []
   },
   "source": [
    "#### To inspect the data we just loaded, Here are some common methods:\n",
    "* df.head(): Returns the first few rows of the DataFrame.\n",
    "* df.tail(): Returns the last few rows of the DataFrame.\n",
    "* df.shape: Returns the dimensions (rows, columns) of the DataFrame.\n",
    "* df.info(): Provides information about the DataFrame, including column data types and missing values.\n",
    "* df.describe(): Generates descriptive statistics of numerical columns, such as count, mean, min, max, etc."
   ]
  },
  {
   "cell_type": "markdown",
   "id": "0111f9ce-1b4b-471e-bb1b-3000abca5c76",
   "metadata": {},
   "source": [
    "#### items object overview"
   ]
  },
  {
   "cell_type": "code",
   "execution_count": 7,
   "id": "1b5920c0-ae22-40bf-bf78-a7d68ee6bc2d",
   "metadata": {},
   "outputs": [
    {
     "data": {
      "text/html": [
       "<div>\n",
       "<style scoped>\n",
       "    .dataframe tbody tr th:only-of-type {\n",
       "        vertical-align: middle;\n",
       "    }\n",
       "\n",
       "    .dataframe tbody tr th {\n",
       "        vertical-align: top;\n",
       "    }\n",
       "\n",
       "    .dataframe thead th {\n",
       "        text-align: right;\n",
       "    }\n",
       "</style>\n",
       "<table border=\"1\" class=\"dataframe\">\n",
       "  <thead>\n",
       "    <tr style=\"text-align: right;\">\n",
       "      <th></th>\n",
       "      <th>item_id</th>\n",
       "      <th>sku_no</th>\n",
       "      <th>unit_length</th>\n",
       "      <th>unit_width</th>\n",
       "      <th>unit_height</th>\n",
       "      <th>weight</th>\n",
       "      <th>item_description</th>\n",
       "    </tr>\n",
       "  </thead>\n",
       "  <tbody>\n",
       "    <tr>\n",
       "      <th>0</th>\n",
       "      <td>12810</td>\n",
       "      <td>24287592.0</td>\n",
       "      <td>8.40</td>\n",
       "      <td>3.70</td>\n",
       "      <td>2.30</td>\n",
       "      <td>2.100</td>\n",
       "      <td>SILK PURE ALMOND UNSWT VAN</td>\n",
       "    </tr>\n",
       "    <tr>\n",
       "      <th>1</th>\n",
       "      <td>19327</td>\n",
       "      <td>1266017.0</td>\n",
       "      <td>5.50</td>\n",
       "      <td>5.50</td>\n",
       "      <td>8.40</td>\n",
       "      <td>1.470</td>\n",
       "      <td>NEO-GEL 48PC TUB BLU</td>\n",
       "    </tr>\n",
       "    <tr>\n",
       "      <th>2</th>\n",
       "      <td>24874</td>\n",
       "      <td>24529912.0</td>\n",
       "      <td>10.00</td>\n",
       "      <td>8.05</td>\n",
       "      <td>2.60</td>\n",
       "      <td>0.720</td>\n",
       "      <td>FULL SIZE HOT GLUE GUN</td>\n",
       "    </tr>\n",
       "    <tr>\n",
       "      <th>3</th>\n",
       "      <td>15205</td>\n",
       "      <td>565284.0</td>\n",
       "      <td>6.85</td>\n",
       "      <td>2.70</td>\n",
       "      <td>2.65</td>\n",
       "      <td>1.285</td>\n",
       "      <td>TAPE DISPENSER</td>\n",
       "    </tr>\n",
       "    <tr>\n",
       "      <th>4</th>\n",
       "      <td>13444</td>\n",
       "      <td>2610177.0</td>\n",
       "      <td>9.20</td>\n",
       "      <td>8.10</td>\n",
       "      <td>6.70</td>\n",
       "      <td>1.300</td>\n",
       "      <td>DESKTOP DRAWER SYSTEM SMALL</td>\n",
       "    </tr>\n",
       "  </tbody>\n",
       "</table>\n",
       "</div>"
      ],
      "text/plain": [
       "   item_id      sku_no  unit_length  unit_width  unit_height  weight  \\\n",
       "0    12810  24287592.0         8.40        3.70         2.30   2.100   \n",
       "1    19327   1266017.0         5.50        5.50         8.40   1.470   \n",
       "2    24874  24529912.0        10.00        8.05         2.60   0.720   \n",
       "3    15205    565284.0         6.85        2.70         2.65   1.285   \n",
       "4    13444   2610177.0         9.20        8.10         6.70   1.300   \n",
       "\n",
       "                      item_description  \n",
       "0  SILK PURE ALMOND UNSWT VAN           \n",
       "1  NEO-GEL 48PC TUB BLU                 \n",
       "2  FULL SIZE HOT GLUE GUN               \n",
       "3  TAPE DISPENSER                       \n",
       "4  DESKTOP DRAWER SYSTEM SMALL          "
      ]
     },
     "execution_count": 7,
     "metadata": {},
     "output_type": "execute_result"
    }
   ],
   "source": [
    "items.head()"
   ]
  },
  {
   "cell_type": "code",
   "execution_count": 10,
   "id": "85d62fc5-f3a3-4a12-9756-e16f6c2303dc",
   "metadata": {},
   "outputs": [
    {
     "data": {
      "text/plain": [
       "(7622, 7)"
      ]
     },
     "execution_count": 10,
     "metadata": {},
     "output_type": "execute_result"
    }
   ],
   "source": [
    "items.shape"
   ]
  },
  {
   "cell_type": "code",
   "execution_count": 12,
   "id": "12222633-ceed-417b-bc0f-0010215b1acd",
   "metadata": {},
   "outputs": [
    {
     "name": "stdout",
     "output_type": "stream",
     "text": [
      "<class 'pandas.core.frame.DataFrame'>\n",
      "RangeIndex: 7622 entries, 0 to 7621\n",
      "Data columns (total 7 columns):\n",
      " #   Column            Non-Null Count  Dtype  \n",
      "---  ------            --------------  -----  \n",
      " 0   item_id           7622 non-null   int64  \n",
      " 1   sku_no            7114 non-null   float64\n",
      " 2   unit_length       7622 non-null   float64\n",
      " 3   unit_width        7622 non-null   float64\n",
      " 4   unit_height       7622 non-null   float64\n",
      " 5   weight            7622 non-null   float64\n",
      " 6   item_description  7622 non-null   object \n",
      "dtypes: float64(5), int64(1), object(1)\n",
      "memory usage: 417.0+ KB\n"
     ]
    }
   ],
   "source": [
    "items.info()"
   ]
  },
  {
   "cell_type": "code",
   "execution_count": 13,
   "id": "f38635e2-9e10-47cb-be61-53857213babe",
   "metadata": {},
   "outputs": [
    {
     "data": {
      "text/html": [
       "<div>\n",
       "<style scoped>\n",
       "    .dataframe tbody tr th:only-of-type {\n",
       "        vertical-align: middle;\n",
       "    }\n",
       "\n",
       "    .dataframe tbody tr th {\n",
       "        vertical-align: top;\n",
       "    }\n",
       "\n",
       "    .dataframe thead th {\n",
       "        text-align: right;\n",
       "    }\n",
       "</style>\n",
       "<table border=\"1\" class=\"dataframe\">\n",
       "  <thead>\n",
       "    <tr style=\"text-align: right;\">\n",
       "      <th></th>\n",
       "      <th>item_id</th>\n",
       "      <th>sku_no</th>\n",
       "      <th>unit_length</th>\n",
       "      <th>unit_width</th>\n",
       "      <th>unit_height</th>\n",
       "      <th>weight</th>\n",
       "    </tr>\n",
       "  </thead>\n",
       "  <tbody>\n",
       "    <tr>\n",
       "      <th>count</th>\n",
       "      <td>7622.000000</td>\n",
       "      <td>7.114000e+03</td>\n",
       "      <td>7622.000000</td>\n",
       "      <td>7622.000000</td>\n",
       "      <td>7622.000000</td>\n",
       "      <td>7622.000000</td>\n",
       "    </tr>\n",
       "    <tr>\n",
       "      <th>mean</th>\n",
       "      <td>9634.173183</td>\n",
       "      <td>6.313149e+06</td>\n",
       "      <td>6.342267</td>\n",
       "      <td>4.147844</td>\n",
       "      <td>1.943269</td>\n",
       "      <td>0.552853</td>\n",
       "    </tr>\n",
       "    <tr>\n",
       "      <th>std</th>\n",
       "      <td>7048.288945</td>\n",
       "      <td>9.914077e+06</td>\n",
       "      <td>1.854861</td>\n",
       "      <td>1.580922</td>\n",
       "      <td>1.478202</td>\n",
       "      <td>0.701571</td>\n",
       "    </tr>\n",
       "    <tr>\n",
       "      <th>min</th>\n",
       "      <td>744.000000</td>\n",
       "      <td>1.220300e+04</td>\n",
       "      <td>0.100000</td>\n",
       "      <td>0.200000</td>\n",
       "      <td>0.000000</td>\n",
       "      <td>0.001200</td>\n",
       "    </tr>\n",
       "    <tr>\n",
       "      <th>25%</th>\n",
       "      <td>4099.500000</td>\n",
       "      <td>5.000452e+05</td>\n",
       "      <td>5.100000</td>\n",
       "      <td>3.000000</td>\n",
       "      <td>0.900000</td>\n",
       "      <td>0.125000</td>\n",
       "    </tr>\n",
       "    <tr>\n",
       "      <th>50%</th>\n",
       "      <td>7782.500000</td>\n",
       "      <td>8.316485e+05</td>\n",
       "      <td>6.100000</td>\n",
       "      <td>3.800000</td>\n",
       "      <td>1.400000</td>\n",
       "      <td>0.300000</td>\n",
       "    </tr>\n",
       "    <tr>\n",
       "      <th>75%</th>\n",
       "      <td>13471.500000</td>\n",
       "      <td>2.735132e+06</td>\n",
       "      <td>7.600000</td>\n",
       "      <td>5.000000</td>\n",
       "      <td>2.600000</td>\n",
       "      <td>0.700000</td>\n",
       "    </tr>\n",
       "    <tr>\n",
       "      <th>max</th>\n",
       "      <td>26945.000000</td>\n",
       "      <td>2.456319e+07</td>\n",
       "      <td>12.800000</td>\n",
       "      <td>11.100000</td>\n",
       "      <td>10.100000</td>\n",
       "      <td>9.200000</td>\n",
       "    </tr>\n",
       "  </tbody>\n",
       "</table>\n",
       "</div>"
      ],
      "text/plain": [
       "            item_id        sku_no  unit_length   unit_width  unit_height  \\\n",
       "count   7622.000000  7.114000e+03  7622.000000  7622.000000  7622.000000   \n",
       "mean    9634.173183  6.313149e+06     6.342267     4.147844     1.943269   \n",
       "std     7048.288945  9.914077e+06     1.854861     1.580922     1.478202   \n",
       "min      744.000000  1.220300e+04     0.100000     0.200000     0.000000   \n",
       "25%     4099.500000  5.000452e+05     5.100000     3.000000     0.900000   \n",
       "50%     7782.500000  8.316485e+05     6.100000     3.800000     1.400000   \n",
       "75%    13471.500000  2.735132e+06     7.600000     5.000000     2.600000   \n",
       "max    26945.000000  2.456319e+07    12.800000    11.100000    10.100000   \n",
       "\n",
       "            weight  \n",
       "count  7622.000000  \n",
       "mean      0.552853  \n",
       "std       0.701571  \n",
       "min       0.001200  \n",
       "25%       0.125000  \n",
       "50%       0.300000  \n",
       "75%       0.700000  \n",
       "max       9.200000  "
      ]
     },
     "execution_count": 13,
     "metadata": {},
     "output_type": "execute_result"
    }
   ],
   "source": [
    "items.describe()"
   ]
  },
  {
   "cell_type": "markdown",
   "id": "df51cf15-9101-4e1c-8e2c-2aa8068e1199",
   "metadata": {},
   "source": [
    "#### graspTypes object overview"
   ]
  },
  {
   "cell_type": "code",
   "execution_count": 14,
   "id": "97326113-1462-44f8-9422-6859d2924814",
   "metadata": {},
   "outputs": [
    {
     "data": {
      "text/html": [
       "<div>\n",
       "<style scoped>\n",
       "    .dataframe tbody tr th:only-of-type {\n",
       "        vertical-align: middle;\n",
       "    }\n",
       "\n",
       "    .dataframe tbody tr th {\n",
       "        vertical-align: top;\n",
       "    }\n",
       "\n",
       "    .dataframe thead th {\n",
       "        text-align: right;\n",
       "    }\n",
       "</style>\n",
       "<table border=\"1\" class=\"dataframe\">\n",
       "  <thead>\n",
       "    <tr style=\"text-align: right;\">\n",
       "      <th></th>\n",
       "      <th>id</th>\n",
       "      <th>name</th>\n",
       "      <th>description</th>\n",
       "    </tr>\n",
       "  </thead>\n",
       "  <tbody>\n",
       "    <tr>\n",
       "      <th>0</th>\n",
       "      <td>0</td>\n",
       "      <td>suction_only</td>\n",
       "      <td>suction only</td>\n",
       "    </tr>\n",
       "    <tr>\n",
       "      <th>1</th>\n",
       "      <td>1</td>\n",
       "      <td>default</td>\n",
       "      <td>suction + fingers</td>\n",
       "    </tr>\n",
       "    <tr>\n",
       "      <th>2</th>\n",
       "      <td>2</td>\n",
       "      <td>stabilized</td>\n",
       "      <td>stabilized grasp</td>\n",
       "    </tr>\n",
       "  </tbody>\n",
       "</table>\n",
       "</div>"
      ],
      "text/plain": [
       "   id          name        description\n",
       "0   0  suction_only       suction only\n",
       "1   1       default  suction + fingers\n",
       "2   2    stabilized   stabilized grasp"
      ]
     },
     "execution_count": 15,
     "metadata": {},
     "output_type": "execute_result"
    }
   ],
   "source": [
    "graspTypes.head()"
   ]
  },
  {
   "cell_type": "code",
   "execution_count": 16,
   "id": "36039c64-dd97-4954-a939-eaa89d597a08",
   "metadata": {},
   "outputs": [
    {
     "data": {
      "text/plain": [
       "(3, 3)"
      ]
     },
     "execution_count": 16,
     "metadata": {},
     "output_type": "execute_result"
    }
   ],
   "source": [
    "graspTypes.shape"
   ]
  },
  {
   "cell_type": "code",
   "execution_count": 17,
   "id": "bbb666ee-e561-46fa-a220-1805fc3260cf",
   "metadata": {},
   "outputs": [
    {
     "name": "stdout",
     "output_type": "stream",
     "text": [
      "<class 'pandas.core.frame.DataFrame'>\n",
      "RangeIndex: 3 entries, 0 to 2\n",
      "Data columns (total 3 columns):\n",
      " #   Column       Non-Null Count  Dtype \n",
      "---  ------       --------------  ----- \n",
      " 0   id           3 non-null      int64 \n",
      " 1   name         3 non-null      object\n",
      " 2   description  3 non-null      object\n",
      "dtypes: int64(1), object(2)\n",
      "memory usage: 200.0+ bytes\n"
     ]
    }
   ],
   "source": [
    "graspTypes.info()"
   ]
  },
  {
   "cell_type": "markdown",
   "id": "2f4196e1-98df-429c-af8b-d74c14c52631",
   "metadata": {},
   "source": [
    "#### SuctionCups object overview"
   ]
  },
  {
   "cell_type": "code",
   "execution_count": 18,
   "id": "20e7fa3c-26a1-4ec3-ae5f-80d2b43ae885",
   "metadata": {},
   "outputs": [
    {
     "data": {
      "text/html": [
       "<div>\n",
       "<style scoped>\n",
       "    .dataframe tbody tr th:only-of-type {\n",
       "        vertical-align: middle;\n",
       "    }\n",
       "\n",
       "    .dataframe tbody tr th {\n",
       "        vertical-align: top;\n",
       "    }\n",
       "\n",
       "    .dataframe thead th {\n",
       "        text-align: right;\n",
       "    }\n",
       "</style>\n",
       "<table border=\"1\" class=\"dataframe\">\n",
       "  <thead>\n",
       "    <tr style=\"text-align: right;\">\n",
       "      <th></th>\n",
       "      <th>id</th>\n",
       "      <th>description</th>\n",
       "      <th>name</th>\n",
       "      <th>minDim</th>\n",
       "      <th>maxDim</th>\n",
       "      <th>maxWeight</th>\n",
       "    </tr>\n",
       "  </thead>\n",
       "  <tbody>\n",
       "    <tr>\n",
       "      <th>0</th>\n",
       "      <td>0</td>\n",
       "      <td>any</td>\n",
       "      <td>any</td>\n",
       "      <td>0.00</td>\n",
       "      <td>0</td>\n",
       "      <td>0.00</td>\n",
       "    </tr>\n",
       "    <tr>\n",
       "      <th>1</th>\n",
       "      <td>1</td>\n",
       "      <td>small-25mm</td>\n",
       "      <td>swappable_vs_25_nr</td>\n",
       "      <td>0.25</td>\n",
       "      <td>5</td>\n",
       "      <td>0.80</td>\n",
       "    </tr>\n",
       "    <tr>\n",
       "      <th>2</th>\n",
       "      <td>2</td>\n",
       "      <td>medium</td>\n",
       "      <td>swappable_b3_bgi34</td>\n",
       "      <td>2.00</td>\n",
       "      <td>1000</td>\n",
       "      <td>1.90</td>\n",
       "    </tr>\n",
       "    <tr>\n",
       "      <th>3</th>\n",
       "      <td>3</td>\n",
       "      <td>large</td>\n",
       "      <td>swappable_vsa_63_nr</td>\n",
       "      <td>3.00</td>\n",
       "      <td>1000</td>\n",
       "      <td>6.60</td>\n",
       "    </tr>\n",
       "    <tr>\n",
       "      <th>4</th>\n",
       "      <td>4</td>\n",
       "      <td>bag</td>\n",
       "      <td>swappable_bgx_48</td>\n",
       "      <td>1.90</td>\n",
       "      <td>1000</td>\n",
       "      <td>2.42</td>\n",
       "    </tr>\n",
       "    <tr>\n",
       "      <th>5</th>\n",
       "      <td>5</td>\n",
       "      <td>small-18mm</td>\n",
       "      <td>swappable_vs_18_nr</td>\n",
       "      <td>0.18</td>\n",
       "      <td>5</td>\n",
       "      <td>0.80</td>\n",
       "    </tr>\n",
       "  </tbody>\n",
       "</table>\n",
       "</div>"
      ],
      "text/plain": [
       "   id description                 name  minDim  maxDim  maxWeight\n",
       "0   0         any                  any    0.00       0       0.00\n",
       "1   1  small-25mm   swappable_vs_25_nr    0.25       5       0.80\n",
       "2   2      medium   swappable_b3_bgi34    2.00    1000       1.90\n",
       "3   3       large  swappable_vsa_63_nr    3.00    1000       6.60\n",
       "4   4         bag     swappable_bgx_48    1.90    1000       2.42\n",
       "5   5  small-18mm   swappable_vs_18_nr    0.18       5       0.80"
      ]
     },
     "execution_count": 18,
     "metadata": {},
     "output_type": "execute_result"
    }
   ],
   "source": [
    "suctionCups.head(n=10)"
   ]
  },
  {
   "cell_type": "code",
   "execution_count": 19,
   "id": "47194001-f5b4-43e2-9afb-24daf50a5e64",
   "metadata": {},
   "outputs": [
    {
     "data": {
      "text/plain": [
       "(6, 6)"
      ]
     },
     "execution_count": 19,
     "metadata": {},
     "output_type": "execute_result"
    }
   ],
   "source": [
    "suctionCups.shape"
   ]
  },
  {
   "cell_type": "code",
   "execution_count": 20,
   "id": "3c520d53-e9a2-4774-bdab-2ef8f69df817",
   "metadata": {},
   "outputs": [
    {
     "name": "stdout",
     "output_type": "stream",
     "text": [
      "<class 'pandas.core.frame.DataFrame'>\n",
      "RangeIndex: 6 entries, 0 to 5\n",
      "Data columns (total 6 columns):\n",
      " #   Column       Non-Null Count  Dtype  \n",
      "---  ------       --------------  -----  \n",
      " 0   id           6 non-null      int64  \n",
      " 1   description  6 non-null      object \n",
      " 2   name         6 non-null      object \n",
      " 3   minDim       6 non-null      float64\n",
      " 4   maxDim       6 non-null      int64  \n",
      " 5   maxWeight    6 non-null      float64\n",
      "dtypes: float64(2), int64(2), object(2)\n",
      "memory usage: 416.0+ bytes\n"
     ]
    }
   ],
   "source": [
    "suctionCups.info()"
   ]
  },
  {
   "cell_type": "markdown",
   "id": "b5c42ada-79ef-4f99-90fe-2e34ebcabc8f",
   "metadata": {},
   "source": [
    "#### itemConfig object overview"
   ]
  },
  {
   "cell_type": "code",
   "execution_count": 21,
   "id": "1be844fc-03ea-4ab7-a08d-68c52f0020c4",
   "metadata": {},
   "outputs": [
    {
     "data": {
      "text/html": [
       "<div>\n",
       "<style scoped>\n",
       "    .dataframe tbody tr th:only-of-type {\n",
       "        vertical-align: middle;\n",
       "    }\n",
       "\n",
       "    .dataframe tbody tr th {\n",
       "        vertical-align: top;\n",
       "    }\n",
       "\n",
       "    .dataframe thead th {\n",
       "        text-align: right;\n",
       "    }\n",
       "</style>\n",
       "<table border=\"1\" class=\"dataframe\">\n",
       "  <thead>\n",
       "    <tr style=\"text-align: right;\">\n",
       "      <th></th>\n",
       "      <th>item_id</th>\n",
       "      <th>suction_cup_id</th>\n",
       "      <th>name</th>\n",
       "      <th>arm_config</th>\n",
       "      <th>name.1</th>\n",
       "    </tr>\n",
       "  </thead>\n",
       "  <tbody>\n",
       "    <tr>\n",
       "      <th>0</th>\n",
       "      <td>823</td>\n",
       "      <td>5</td>\n",
       "      <td>swappable_vs_18_nr</td>\n",
       "      <td>1</td>\n",
       "      <td>default</td>\n",
       "    </tr>\n",
       "    <tr>\n",
       "      <th>1</th>\n",
       "      <td>763</td>\n",
       "      <td>0</td>\n",
       "      <td>any</td>\n",
       "      <td>1</td>\n",
       "      <td>default</td>\n",
       "    </tr>\n",
       "    <tr>\n",
       "      <th>2</th>\n",
       "      <td>7116</td>\n",
       "      <td>3</td>\n",
       "      <td>swappable_vsa_63_nr</td>\n",
       "      <td>1</td>\n",
       "      <td>default</td>\n",
       "    </tr>\n",
       "    <tr>\n",
       "      <th>3</th>\n",
       "      <td>766</td>\n",
       "      <td>0</td>\n",
       "      <td>any</td>\n",
       "      <td>1</td>\n",
       "      <td>default</td>\n",
       "    </tr>\n",
       "    <tr>\n",
       "      <th>4</th>\n",
       "      <td>767</td>\n",
       "      <td>0</td>\n",
       "      <td>any</td>\n",
       "      <td>0</td>\n",
       "      <td>suction_only</td>\n",
       "    </tr>\n",
       "    <tr>\n",
       "      <th>...</th>\n",
       "      <td>...</td>\n",
       "      <td>...</td>\n",
       "      <td>...</td>\n",
       "      <td>...</td>\n",
       "      <td>...</td>\n",
       "    </tr>\n",
       "    <tr>\n",
       "      <th>95</th>\n",
       "      <td>13424</td>\n",
       "      <td>3</td>\n",
       "      <td>swappable_vsa_63_nr</td>\n",
       "      <td>1</td>\n",
       "      <td>default</td>\n",
       "    </tr>\n",
       "    <tr>\n",
       "      <th>96</th>\n",
       "      <td>3763</td>\n",
       "      <td>4</td>\n",
       "      <td>swappable_bgx_48</td>\n",
       "      <td>2</td>\n",
       "      <td>stabilized</td>\n",
       "    </tr>\n",
       "    <tr>\n",
       "      <th>97</th>\n",
       "      <td>3926</td>\n",
       "      <td>4</td>\n",
       "      <td>swappable_bgx_48</td>\n",
       "      <td>1</td>\n",
       "      <td>default</td>\n",
       "    </tr>\n",
       "    <tr>\n",
       "      <th>98</th>\n",
       "      <td>4878</td>\n",
       "      <td>4</td>\n",
       "      <td>swappable_bgx_48</td>\n",
       "      <td>2</td>\n",
       "      <td>stabilized</td>\n",
       "    </tr>\n",
       "    <tr>\n",
       "      <th>99</th>\n",
       "      <td>4917</td>\n",
       "      <td>4</td>\n",
       "      <td>swappable_bgx_48</td>\n",
       "      <td>1</td>\n",
       "      <td>default</td>\n",
       "    </tr>\n",
       "  </tbody>\n",
       "</table>\n",
       "<p>100 rows × 5 columns</p>\n",
       "</div>"
      ],
      "text/plain": [
       "    item_id  suction_cup_id                 name  arm_config        name.1\n",
       "0       823               5   swappable_vs_18_nr           1       default\n",
       "1       763               0                  any           1       default\n",
       "2      7116               3  swappable_vsa_63_nr           1       default\n",
       "3       766               0                  any           1       default\n",
       "4       767               0                  any           0  suction_only\n",
       "..      ...             ...                  ...         ...           ...\n",
       "95    13424               3  swappable_vsa_63_nr           1       default\n",
       "96     3763               4     swappable_bgx_48           2    stabilized\n",
       "97     3926               4     swappable_bgx_48           1       default\n",
       "98     4878               4     swappable_bgx_48           2    stabilized\n",
       "99     4917               4     swappable_bgx_48           1       default\n",
       "\n",
       "[100 rows x 5 columns]"
      ]
     },
     "execution_count": 21,
     "metadata": {},
     "output_type": "execute_result"
    }
   ],
   "source": [
    "itemConfigs.head(n=100)"
   ]
  },
  {
   "cell_type": "code",
   "execution_count": 22,
   "id": "eeeeb5b0-4c77-4f84-8e72-da46e2b472b0",
   "metadata": {},
   "outputs": [
    {
     "data": {
      "text/plain": [
       "(10819, 5)"
      ]
     },
     "execution_count": 22,
     "metadata": {},
     "output_type": "execute_result"
    }
   ],
   "source": [
    "itemConfigs.shape"
   ]
  },
  {
   "cell_type": "code",
   "execution_count": 23,
   "id": "31e9f695-5c32-492b-9e34-796fffb773ec",
   "metadata": {},
   "outputs": [
    {
     "name": "stdout",
     "output_type": "stream",
     "text": [
      "<class 'pandas.core.frame.DataFrame'>\n",
      "RangeIndex: 10819 entries, 0 to 10818\n",
      "Data columns (total 5 columns):\n",
      " #   Column          Non-Null Count  Dtype \n",
      "---  ------          --------------  ----- \n",
      " 0   item_id         10819 non-null  int64 \n",
      " 1   suction_cup_id  10819 non-null  int64 \n",
      " 2   name            10819 non-null  object\n",
      " 3   arm_config      10819 non-null  int64 \n",
      " 4   name.1          10819 non-null  object\n",
      "dtypes: int64(3), object(2)\n",
      "memory usage: 422.7+ KB\n"
     ]
    }
   ],
   "source": [
    "itemConfigs.info()"
   ]
  },
  {
   "cell_type": "code",
   "execution_count": 26,
   "id": "75ec5f18-d700-4c91-b44a-2e2d372e06ca",
   "metadata": {},
   "outputs": [
    {
     "data": {
      "text/plain": [
       "name\n",
       "swappable_bgx_48       3775\n",
       "swappable_vs_25_nr     3696\n",
       "swappable_vsa_63_nr    1910\n",
       "any                     812\n",
       "swappable_vs_18_nr      626\n",
       "Name: count, dtype: int64"
      ]
     },
     "execution_count": 26,
     "metadata": {},
     "output_type": "execute_result"
    }
   ],
   "source": [
    "itemConfigs['name'].value_counts()"
   ]
  },
  {
   "cell_type": "code",
   "execution_count": 33,
   "id": "30eb18cb-7a76-41c0-ab5f-ef2471773aa3",
   "metadata": {},
   "outputs": [
    {
     "data": {
      "text/plain": [
       "(0, 5)"
      ]
     },
     "execution_count": 33,
     "metadata": {},
     "output_type": "execute_result"
    }
   ],
   "source": [
    "itemConfigs.groupby('item_id').filter(lambda x: len(x)>1).shape"
   ]
  },
  {
   "cell_type": "markdown",
   "id": "753e34c8-33dd-4180-85cb-75f94c09f0d6",
   "metadata": {},
   "source": [
    "## Data Cleaning\n",
    "\n",
    "After a preliminary data inspection, it is evident that the dataset contains incorrect data types and null values. Additionally, it is frequently observed that text fields contains noisy punctuations, such as quote and semicolons, which should be eliminated. Performing data cleaning is crucial at this stage to eradicate such records and ensure the cleanliness of your data."
   ]
  },
  {
   "cell_type": "markdown",
   "id": "cec33b7f-43f8-44cd-850e-243cb208040a",
   "metadata": {
    "tags": []
   },
   "source": [
    "### Item object\n",
    "* Many item rows doesn't have SKU#\n",
    "* Item ID should be a string since we are not going to do numeric manipulation on it.\n",
    "* SKU # should be a string field without the trailing .0\n",
    "* item_description is a text field. We probably want to take a deeper look\n",
    "* len/wid/hgt doesn't quite fit our purpose. Making dim1, dim2 and dim3 in a asc/desc order makes more sense "
   ]
  },
  {
   "cell_type": "code",
   "execution_count": 34,
   "id": "99a11656-c542-497e-9989-600a186d556d",
   "metadata": {},
   "outputs": [],
   "source": [
    "# drop null\n",
    "items.dropna(subset=['sku_no'], inplace=True)"
   ]
  },
  {
   "cell_type": "code",
   "execution_count": 35,
   "id": "0aac5103-7d05-4d32-ad6a-ad2002314861",
   "metadata": {},
   "outputs": [
    {
     "data": {
      "text/plain": [
       "(7114, 7)"
      ]
     },
     "execution_count": 35,
     "metadata": {},
     "output_type": "execute_result"
    }
   ],
   "source": [
    "items.shape"
   ]
  },
  {
   "cell_type": "code",
   "execution_count": 45,
   "id": "f6033316-d018-442d-afe3-9f4c8b3d2abf",
   "metadata": {},
   "outputs": [],
   "source": [
    "# reformat sku_no field\n",
    "items['sku_no'] = items['sku_no'].astype(str).str.rstrip('.0')"
   ]
  },
  {
   "cell_type": "code",
   "execution_count": 50,
   "id": "183aae6a-afb2-4647-8339-440c886eeac9",
   "metadata": {},
   "outputs": [
    {
     "data": {
      "text/html": [
       "<div>\n",
       "<style scoped>\n",
       "    .dataframe tbody tr th:only-of-type {\n",
       "        vertical-align: middle;\n",
       "    }\n",
       "\n",
       "    .dataframe tbody tr th {\n",
       "        vertical-align: top;\n",
       "    }\n",
       "\n",
       "    .dataframe thead th {\n",
       "        text-align: right;\n",
       "    }\n",
       "</style>\n",
       "<table border=\"1\" class=\"dataframe\">\n",
       "  <thead>\n",
       "    <tr style=\"text-align: right;\">\n",
       "      <th></th>\n",
       "      <th>item_id</th>\n",
       "      <th>sku_no</th>\n",
       "      <th>unit_length</th>\n",
       "      <th>unit_width</th>\n",
       "      <th>unit_height</th>\n",
       "      <th>weight</th>\n",
       "      <th>item_description</th>\n",
       "    </tr>\n",
       "  </thead>\n",
       "  <tbody>\n",
       "    <tr>\n",
       "      <th>1105</th>\n",
       "      <td>5528</td>\n",
       "      <td>160156</td>\n",
       "      <td>9.60</td>\n",
       "      <td>2.8</td>\n",
       "      <td>1.10</td>\n",
       "      <td>0.40</td>\n",
       "      <td>HP 980 YELLOW INK CARTRIDGE</td>\n",
       "    </tr>\n",
       "    <tr>\n",
       "      <th>5860</th>\n",
       "      <td>11101</td>\n",
       "      <td>24420013</td>\n",
       "      <td>9.25</td>\n",
       "      <td>5.4</td>\n",
       "      <td>1.85</td>\n",
       "      <td>0.15</td>\n",
       "      <td>CW MF WET PAD 18X5 BLUE</td>\n",
       "    </tr>\n",
       "    <tr>\n",
       "      <th>6828</th>\n",
       "      <td>2371</td>\n",
       "      <td>904597</td>\n",
       "      <td>9.70</td>\n",
       "      <td>3.8</td>\n",
       "      <td>0.60</td>\n",
       "      <td>0.30</td>\n",
       "      <td>SIGN TURN OFF CELL PHONE</td>\n",
       "    </tr>\n",
       "    <tr>\n",
       "      <th>7330</th>\n",
       "      <td>4757</td>\n",
       "      <td>886241</td>\n",
       "      <td>4.90</td>\n",
       "      <td>4.4</td>\n",
       "      <td>2.30</td>\n",
       "      <td>0.15</td>\n",
       "      <td>EPSON 124 COLOR 3PK</td>\n",
       "    </tr>\n",
       "    <tr>\n",
       "      <th>4415</th>\n",
       "      <td>7623</td>\n",
       "      <td>387282</td>\n",
       "      <td>3.80</td>\n",
       "      <td>3.3</td>\n",
       "      <td>1.70</td>\n",
       "      <td>0.10</td>\n",
       "      <td>BANDAGE ADHESIVE FABRIC 3/4X3</td>\n",
       "    </tr>\n",
       "  </tbody>\n",
       "</table>\n",
       "</div>"
      ],
      "text/plain": [
       "      item_id    sku_no  unit_length  unit_width  unit_height  weight  \\\n",
       "1105     5528    160156         9.60         2.8         1.10    0.40   \n",
       "5860    11101  24420013         9.25         5.4         1.85    0.15   \n",
       "6828     2371    904597         9.70         3.8         0.60    0.30   \n",
       "7330     4757    886241         4.90         4.4         2.30    0.15   \n",
       "4415     7623    387282         3.80         3.3         1.70    0.10   \n",
       "\n",
       "                         item_description  \n",
       "1105  HP 980 YELLOW INK CARTRIDGE          \n",
       "5860  CW MF WET PAD 18X5 BLUE              \n",
       "6828  SIGN TURN OFF CELL PHONE             \n",
       "7330  EPSON 124 COLOR 3PK                  \n",
       "4415  BANDAGE ADHESIVE FABRIC 3/4X3        "
      ]
     },
     "execution_count": 50,
     "metadata": {},
     "output_type": "execute_result"
    }
   ],
   "source": [
    "items.sample(5)"
   ]
  },
  {
   "cell_type": "code",
   "execution_count": 57,
   "id": "30427eb7-3701-40f9-8329-0a5efc69993e",
   "metadata": {},
   "outputs": [
    {
     "name": "stdout",
     "output_type": "stream",
     "text": [
      "!\"#$%&'()*+,-./:;<=>?@[\\]^_`{|}~\n"
     ]
    }
   ],
   "source": [
    "# check punctuation\n",
    "import string\n",
    "\n",
    "print(string.punctuation)\n",
    "mask = items['item_description'].str.contains(f\"[{string.punctuation}]\")"
   ]
  },
  {
   "cell_type": "code",
   "execution_count": 61,
   "id": "55e5f88b-fe44-4a49-8545-2598f7e76dfc",
   "metadata": {},
   "outputs": [
    {
     "data": {
      "text/html": [
       "<div>\n",
       "<style scoped>\n",
       "    .dataframe tbody tr th:only-of-type {\n",
       "        vertical-align: middle;\n",
       "    }\n",
       "\n",
       "    .dataframe tbody tr th {\n",
       "        vertical-align: top;\n",
       "    }\n",
       "\n",
       "    .dataframe thead th {\n",
       "        text-align: right;\n",
       "    }\n",
       "</style>\n",
       "<table border=\"1\" class=\"dataframe\">\n",
       "  <thead>\n",
       "    <tr style=\"text-align: right;\">\n",
       "      <th></th>\n",
       "      <th>item_id</th>\n",
       "      <th>sku_no</th>\n",
       "      <th>unit_length</th>\n",
       "      <th>unit_width</th>\n",
       "      <th>unit_height</th>\n",
       "      <th>weight</th>\n",
       "      <th>item_description</th>\n",
       "    </tr>\n",
       "  </thead>\n",
       "  <tbody>\n",
       "    <tr>\n",
       "      <th>1282</th>\n",
       "      <td>2872</td>\n",
       "      <td>618658</td>\n",
       "      <td>3.1</td>\n",
       "      <td>2.2</td>\n",
       "      <td>1.2</td>\n",
       "      <td>0.280</td>\n",
       "      <td>JUMBO NON-SKID PAPER CLIPS</td>\n",
       "    </tr>\n",
       "    <tr>\n",
       "      <th>2991</th>\n",
       "      <td>10528</td>\n",
       "      <td>848967</td>\n",
       "      <td>7.3</td>\n",
       "      <td>4.5</td>\n",
       "      <td>0.8</td>\n",
       "      <td>0.100</td>\n",
       "      <td>COMBAT ANT KILLING SYSTEM 6/BX</td>\n",
       "    </tr>\n",
       "    <tr>\n",
       "      <th>6012</th>\n",
       "      <td>3182</td>\n",
       "      <td>710705</td>\n",
       "      <td>8.8</td>\n",
       "      <td>8.8</td>\n",
       "      <td>1.2</td>\n",
       "      <td>0.600</td>\n",
       "      <td>ZEBRA Z-GRIP 0.7MM 24PK</td>\n",
       "    </tr>\n",
       "    <tr>\n",
       "      <th>3297</th>\n",
       "      <td>5517</td>\n",
       "      <td>812056</td>\n",
       "      <td>5.6</td>\n",
       "      <td>2.7</td>\n",
       "      <td>2.6</td>\n",
       "      <td>0.700</td>\n",
       "      <td>TAPE MAGIC 3/4X36 YD 6 PACK</td>\n",
       "    </tr>\n",
       "    <tr>\n",
       "      <th>1881</th>\n",
       "      <td>1494</td>\n",
       "      <td>863061</td>\n",
       "      <td>4.5</td>\n",
       "      <td>2.4</td>\n",
       "      <td>1.7</td>\n",
       "      <td>0.125</td>\n",
       "      <td>HP 61 TRI-COLOR INK</td>\n",
       "    </tr>\n",
       "    <tr>\n",
       "      <th>5927</th>\n",
       "      <td>10637</td>\n",
       "      <td>221101</td>\n",
       "      <td>6.0</td>\n",
       "      <td>3.0</td>\n",
       "      <td>1.3</td>\n",
       "      <td>0.300</td>\n",
       "      <td>ACROBALL HYBRID 1.0MM MED BLU</td>\n",
       "    </tr>\n",
       "    <tr>\n",
       "      <th>6043</th>\n",
       "      <td>1613</td>\n",
       "      <td>894633</td>\n",
       "      <td>5.5</td>\n",
       "      <td>3.0</td>\n",
       "      <td>3.0</td>\n",
       "      <td>0.500</td>\n",
       "      <td>SCOTCH MAGIC TAPE 3/4X800 6PK</td>\n",
       "    </tr>\n",
       "    <tr>\n",
       "      <th>2878</th>\n",
       "      <td>1800</td>\n",
       "      <td>681466</td>\n",
       "      <td>3.8</td>\n",
       "      <td>3.3</td>\n",
       "      <td>2.1</td>\n",
       "      <td>0.100</td>\n",
       "      <td>CANON PG-30 BLACK INK</td>\n",
       "    </tr>\n",
       "    <tr>\n",
       "      <th>2729</th>\n",
       "      <td>11163</td>\n",
       "      <td>91846</td>\n",
       "      <td>6.0</td>\n",
       "      <td>5.6</td>\n",
       "      <td>1.6</td>\n",
       "      <td>0.400</td>\n",
       "      <td>SCENTD OIL TWIN REFILL LAV/CAM</td>\n",
       "    </tr>\n",
       "    <tr>\n",
       "      <th>1227</th>\n",
       "      <td>11984</td>\n",
       "      <td>599993</td>\n",
       "      <td>7.7</td>\n",
       "      <td>5.0</td>\n",
       "      <td>3.5</td>\n",
       "      <td>1.100</td>\n",
       "      <td>RUBBERBAND #64 3.5X1/4IN 1# BX</td>\n",
       "    </tr>\n",
       "  </tbody>\n",
       "</table>\n",
       "</div>"
      ],
      "text/plain": [
       "      item_id  sku_no  unit_length  unit_width  unit_height  weight  \\\n",
       "1282     2872  618658          3.1         2.2          1.2   0.280   \n",
       "2991    10528  848967          7.3         4.5          0.8   0.100   \n",
       "6012     3182  710705          8.8         8.8          1.2   0.600   \n",
       "3297     5517  812056          5.6         2.7          2.6   0.700   \n",
       "1881     1494  863061          4.5         2.4          1.7   0.125   \n",
       "5927    10637  221101          6.0         3.0          1.3   0.300   \n",
       "6043     1613  894633          5.5         3.0          3.0   0.500   \n",
       "2878     1800  681466          3.8         3.3          2.1   0.100   \n",
       "2729    11163   91846          6.0         5.6          1.6   0.400   \n",
       "1227    11984  599993          7.7         5.0          3.5   1.100   \n",
       "\n",
       "                         item_description  \n",
       "1282  JUMBO NON-SKID PAPER CLIPS           \n",
       "2991  COMBAT ANT KILLING SYSTEM 6/BX       \n",
       "6012  ZEBRA Z-GRIP 0.7MM 24PK              \n",
       "3297  TAPE MAGIC 3/4X36 YD 6 PACK          \n",
       "1881  HP 61 TRI-COLOR INK                  \n",
       "5927  ACROBALL HYBRID 1.0MM MED BLU        \n",
       "6043  SCOTCH MAGIC TAPE 3/4X800 6PK        \n",
       "2878  CANON PG-30 BLACK INK                \n",
       "2729  SCENTD OIL TWIN REFILL LAV/CAM       \n",
       "1227  RUBBERBAND #64 3.5X1/4IN 1# BX       "
      ]
     },
     "execution_count": 61,
     "metadata": {},
     "output_type": "execute_result"
    }
   ],
   "source": [
    "items[mask].sample(10)"
   ]
  },
  {
   "cell_type": "code",
   "execution_count": 70,
   "id": "64f9eaf5-076d-48ba-8177-ff5ad681be4c",
   "metadata": {},
   "outputs": [],
   "source": [
    "# remove punctuation\n",
    "unwantedChar = '\\'\"&'\n",
    "for c in unwantedChar:\n",
    "    items['item_description'] = items['item_description'].str.replace(c, '')"
   ]
  },
  {
   "cell_type": "code",
   "execution_count": 75,
   "id": "333ce41c-c79f-4103-8a23-189b57551896",
   "metadata": {},
   "outputs": [],
   "source": [
    "# reformat len/width/hgt to dim1/2/3\n",
    "items['dim1'] = items[['unit_length', 'unit_width', 'unit_height']].apply(max, axis=1)\n",
    "items['dim2'] = items[['unit_length', 'unit_width', 'unit_height']].apply(lambda x: sorted(x)[1], axis=1)\n",
    "items['dim3'] = items[['unit_length', 'unit_width', 'unit_height']].apply(min, axis=1)"
   ]
  },
  {
   "cell_type": "markdown",
   "id": "bbfae780-10e1-426c-9421-be9fa4348059",
   "metadata": {},
   "source": [
    "## Suction Cup Selection Logic\n",
    "In this section, our main focus will be on developing the selection logic. The selection logic consists of a series of conditional statements with expandable rules. To ensure flexibility for future rule additions, we can leverage object-oriented programming (OOP) concepts. By adopting an OOP approach, we can easily incorporate new rules into the existing framework."
   ]
  },
  {
   "cell_type": "markdown",
   "id": "470b57c2-4ad3-45f1-9927-97fb3d56dc25",
   "metadata": {
    "tags": []
   },
   "source": [
    "### Item Objects\n",
    "The base of OOP is object. Pandas dataframe provides conveninent utilities for data manipulation, but it is not designed for OOP. For implementing selection logic, I would like to convert item to a object which is easier to access later on."
   ]
  },
  {
   "cell_type": "code",
   "execution_count": 81,
   "id": "074e736f-504b-4b39-93d1-47ed953eac36",
   "metadata": {},
   "outputs": [
    {
     "data": {
      "text/html": [
       "<div>\n",
       "<style scoped>\n",
       "    .dataframe tbody tr th:only-of-type {\n",
       "        vertical-align: middle;\n",
       "    }\n",
       "\n",
       "    .dataframe tbody tr th {\n",
       "        vertical-align: top;\n",
       "    }\n",
       "\n",
       "    .dataframe thead th {\n",
       "        text-align: right;\n",
       "    }\n",
       "</style>\n",
       "<table border=\"1\" class=\"dataframe\">\n",
       "  <thead>\n",
       "    <tr style=\"text-align: right;\">\n",
       "      <th></th>\n",
       "      <th>item_id</th>\n",
       "      <th>sku_no</th>\n",
       "      <th>unit_length</th>\n",
       "      <th>unit_width</th>\n",
       "      <th>unit_height</th>\n",
       "      <th>weight</th>\n",
       "      <th>item_description</th>\n",
       "      <th>dim1</th>\n",
       "      <th>dim2</th>\n",
       "      <th>dim3</th>\n",
       "    </tr>\n",
       "  </thead>\n",
       "  <tbody>\n",
       "    <tr>\n",
       "      <th>0</th>\n",
       "      <td>12810</td>\n",
       "      <td>24287592</td>\n",
       "      <td>8.40</td>\n",
       "      <td>3.70</td>\n",
       "      <td>2.30</td>\n",
       "      <td>2.100</td>\n",
       "      <td>SILK PURE ALMOND UNSWT VAN</td>\n",
       "      <td>8.40</td>\n",
       "      <td>3.70</td>\n",
       "      <td>2.30</td>\n",
       "    </tr>\n",
       "    <tr>\n",
       "      <th>1</th>\n",
       "      <td>19327</td>\n",
       "      <td>1266017</td>\n",
       "      <td>5.50</td>\n",
       "      <td>5.50</td>\n",
       "      <td>8.40</td>\n",
       "      <td>1.470</td>\n",
       "      <td>NEO-GEL 48PC TUB BLU</td>\n",
       "      <td>8.40</td>\n",
       "      <td>5.50</td>\n",
       "      <td>5.50</td>\n",
       "    </tr>\n",
       "    <tr>\n",
       "      <th>2</th>\n",
       "      <td>24874</td>\n",
       "      <td>24529912</td>\n",
       "      <td>10.00</td>\n",
       "      <td>8.05</td>\n",
       "      <td>2.60</td>\n",
       "      <td>0.720</td>\n",
       "      <td>FULL SIZE HOT GLUE GUN</td>\n",
       "      <td>10.00</td>\n",
       "      <td>8.05</td>\n",
       "      <td>2.60</td>\n",
       "    </tr>\n",
       "    <tr>\n",
       "      <th>3</th>\n",
       "      <td>15205</td>\n",
       "      <td>565284</td>\n",
       "      <td>6.85</td>\n",
       "      <td>2.70</td>\n",
       "      <td>2.65</td>\n",
       "      <td>1.285</td>\n",
       "      <td>TAPE DISPENSER</td>\n",
       "      <td>6.85</td>\n",
       "      <td>2.70</td>\n",
       "      <td>2.65</td>\n",
       "    </tr>\n",
       "    <tr>\n",
       "      <th>4</th>\n",
       "      <td>13444</td>\n",
       "      <td>2610177</td>\n",
       "      <td>9.20</td>\n",
       "      <td>8.10</td>\n",
       "      <td>6.70</td>\n",
       "      <td>1.300</td>\n",
       "      <td>DESKTOP DRAWER SYSTEM SMALL</td>\n",
       "      <td>9.20</td>\n",
       "      <td>8.10</td>\n",
       "      <td>6.70</td>\n",
       "    </tr>\n",
       "    <tr>\n",
       "      <th>...</th>\n",
       "      <td>...</td>\n",
       "      <td>...</td>\n",
       "      <td>...</td>\n",
       "      <td>...</td>\n",
       "      <td>...</td>\n",
       "      <td>...</td>\n",
       "      <td>...</td>\n",
       "      <td>...</td>\n",
       "      <td>...</td>\n",
       "      <td>...</td>\n",
       "    </tr>\n",
       "    <tr>\n",
       "      <th>7617</th>\n",
       "      <td>11997</td>\n",
       "      <td>49616</td>\n",
       "      <td>5.30</td>\n",
       "      <td>3.70</td>\n",
       "      <td>1.50</td>\n",
       "      <td>0.600</td>\n",
       "      <td>LAMINATING POUCH  BADGE SIZE</td>\n",
       "      <td>5.30</td>\n",
       "      <td>3.70</td>\n",
       "      <td>1.50</td>\n",
       "    </tr>\n",
       "    <tr>\n",
       "      <th>7618</th>\n",
       "      <td>9779</td>\n",
       "      <td>664524</td>\n",
       "      <td>6.30</td>\n",
       "      <td>3.50</td>\n",
       "      <td>1.80</td>\n",
       "      <td>0.700</td>\n",
       "      <td>SDFC MULTIPLICATION 0-12</td>\n",
       "      <td>6.30</td>\n",
       "      <td>3.50</td>\n",
       "      <td>1.80</td>\n",
       "    </tr>\n",
       "    <tr>\n",
       "      <th>7619</th>\n",
       "      <td>17560</td>\n",
       "      <td>478187</td>\n",
       "      <td>7.80</td>\n",
       "      <td>5.50</td>\n",
       "      <td>2.90</td>\n",
       "      <td>1.400</td>\n",
       "      <td>NUTRA GRAIN RASPBERRY-BX</td>\n",
       "      <td>7.80</td>\n",
       "      <td>5.50</td>\n",
       "      <td>2.90</td>\n",
       "    </tr>\n",
       "    <tr>\n",
       "      <th>7620</th>\n",
       "      <td>10738</td>\n",
       "      <td>735767</td>\n",
       "      <td>5.00</td>\n",
       "      <td>4.90</td>\n",
       "      <td>1.40</td>\n",
       "      <td>0.300</td>\n",
       "      <td>MAGIC TAPE 1/2X2592 3IN 2PK</td>\n",
       "      <td>5.00</td>\n",
       "      <td>4.90</td>\n",
       "      <td>1.40</td>\n",
       "    </tr>\n",
       "    <tr>\n",
       "      <th>7621</th>\n",
       "      <td>25235</td>\n",
       "      <td>2451602</td>\n",
       "      <td>8.55</td>\n",
       "      <td>5.80</td>\n",
       "      <td>0.20</td>\n",
       "      <td>0.160</td>\n",
       "      <td>RY23 AAG 2P/MO RFL 5X8 MNTH</td>\n",
       "      <td>8.55</td>\n",
       "      <td>5.80</td>\n",
       "      <td>0.20</td>\n",
       "    </tr>\n",
       "  </tbody>\n",
       "</table>\n",
       "<p>7114 rows × 10 columns</p>\n",
       "</div>"
      ],
      "text/plain": [
       "      item_id    sku_no  unit_length  unit_width  unit_height  weight  \\\n",
       "0       12810  24287592         8.40        3.70         2.30   2.100   \n",
       "1       19327   1266017         5.50        5.50         8.40   1.470   \n",
       "2       24874  24529912        10.00        8.05         2.60   0.720   \n",
       "3       15205    565284         6.85        2.70         2.65   1.285   \n",
       "4       13444   2610177         9.20        8.10         6.70   1.300   \n",
       "...       ...       ...          ...         ...          ...     ...   \n",
       "7617    11997     49616         5.30        3.70         1.50   0.600   \n",
       "7618     9779    664524         6.30        3.50         1.80   0.700   \n",
       "7619    17560    478187         7.80        5.50         2.90   1.400   \n",
       "7620    10738    735767         5.00        4.90         1.40   0.300   \n",
       "7621    25235   2451602         8.55        5.80         0.20   0.160   \n",
       "\n",
       "                         item_description   dim1  dim2  dim3  \n",
       "0     SILK PURE ALMOND UNSWT VAN            8.40  3.70  2.30  \n",
       "1     NEO-GEL 48PC TUB BLU                  8.40  5.50  5.50  \n",
       "2     FULL SIZE HOT GLUE GUN               10.00  8.05  2.60  \n",
       "3     TAPE DISPENSER                        6.85  2.70  2.65  \n",
       "4     DESKTOP DRAWER SYSTEM SMALL           9.20  8.10  6.70  \n",
       "...                                   ...    ...   ...   ...  \n",
       "7617  LAMINATING POUCH  BADGE SIZE          5.30  3.70  1.50  \n",
       "7618  SDFC MULTIPLICATION 0-12              6.30  3.50  1.80  \n",
       "7619  NUTRA GRAIN RASPBERRY-BX              7.80  5.50  2.90  \n",
       "7620  MAGIC TAPE 1/2X2592 3IN 2PK           5.00  4.90  1.40  \n",
       "7621  RY23 AAG 2P/MO RFL 5X8 MNTH           8.55  5.80  0.20  \n",
       "\n",
       "[7114 rows x 10 columns]"
      ]
     },
     "execution_count": 81,
     "metadata": {},
     "output_type": "execute_result"
    }
   ],
   "source": [
    "items"
   ]
  },
  {
   "cell_type": "code",
   "execution_count": 82,
   "id": "5ef118a7-f1b7-40f0-ae86-c5dfb9f629f7",
   "metadata": {},
   "outputs": [],
   "source": [
    "# here I created a item object to host the name and description\n",
    "class Item:\n",
    "    def __init__(self, **kwargs):\n",
    "        for key, value in kwargs.items():\n",
    "            setattr(self, key, value)\n",
    "        self.mySelection = []\n",
    "    \n",
    "    def __str__(self):\n",
    "        pstr = ''\n",
    "        for k, v in vars(self).items():\n",
    "            pstr += f\"{k}:{v};\\n\"\n",
    "        return pstr"
   ]
  },
  {
   "cell_type": "code",
   "execution_count": 83,
   "id": "3ac83c35-b670-40eb-9699-74ecf96d8e54",
   "metadata": {},
   "outputs": [],
   "source": [
    "# Initiate Map/dict to contain items\n",
    "# the key should be the item ID, the value is the Item object: {1: item1, 2:item2, ...}\n",
    "itemMap = {}\n",
    "\n",
    "# Make a for loop to go through the dataframe and put each row into a object\n",
    "for idx, row in items.iterrows():\n",
    "    itemMap[row['item_id']] = Item(**row.to_dict())"
   ]
  },
  {
   "cell_type": "code",
   "execution_count": 84,
   "id": "659ac0d0-4946-4385-be44-7e09e28ffc9b",
   "metadata": {},
   "outputs": [
    {
     "ename": "KeyError",
     "evalue": "'12810'",
     "output_type": "error",
     "traceback": [
      "\u001b[0;31m---------------------------------------------------------------------------\u001b[0m",
      "\u001b[0;31mKeyError\u001b[0m                                  Traceback (most recent call last)",
      "\u001b[0;32m/var/folders/7j/lcy4jprn0_nf1ql4b97wy_9w0000gq/T/ipykernel_13062/3959746301.py\u001b[0m in \u001b[0;36m<module>\u001b[0;34m\u001b[0m\n\u001b[0;32m----> 1\u001b[0;31m \u001b[0mitemMap\u001b[0m\u001b[0;34m[\u001b[0m\u001b[0;34m'12810'\u001b[0m\u001b[0;34m]\u001b[0m\u001b[0;34m\u001b[0m\u001b[0;34m\u001b[0m\u001b[0m\n\u001b[0m",
      "\u001b[0;31mKeyError\u001b[0m: '12810'"
     ]
    }
   ],
   "source": [
    "itemMap['12810']"
   ]
  },
  {
   "cell_type": "code",
   "execution_count": 85,
   "id": "347936f5-cf64-46ff-b9c3-614f31d4b676",
   "metadata": {},
   "outputs": [
    {
     "ename": "KeyError",
     "evalue": "'12810'",
     "output_type": "error",
     "traceback": [
      "\u001b[0;31m---------------------------------------------------------------------------\u001b[0m",
      "\u001b[0;31mKeyError\u001b[0m                                  Traceback (most recent call last)",
      "\u001b[0;32m/var/folders/7j/lcy4jprn0_nf1ql4b97wy_9w0000gq/T/ipykernel_13062/2895579420.py\u001b[0m in \u001b[0;36m<module>\u001b[0;34m\u001b[0m\n\u001b[0;32m----> 1\u001b[0;31m \u001b[0mprint\u001b[0m\u001b[0;34m(\u001b[0m\u001b[0mitemMap\u001b[0m\u001b[0;34m[\u001b[0m\u001b[0;34m'12810'\u001b[0m\u001b[0;34m]\u001b[0m\u001b[0;34m)\u001b[0m\u001b[0;34m\u001b[0m\u001b[0;34m\u001b[0m\u001b[0m\n\u001b[0m",
      "\u001b[0;31mKeyError\u001b[0m: '12810'"
     ]
    }
   ],
   "source": [
    "print(itemMap['12810'])"
   ]
  },
  {
   "cell_type": "code",
   "execution_count": 86,
   "id": "e04011ce-5b7d-420e-a2f8-a12f70cc8ed5",
   "metadata": {},
   "outputs": [
    {
     "ename": "KeyError",
     "evalue": "'12810'",
     "output_type": "error",
     "traceback": [
      "\u001b[0;31m---------------------------------------------------------------------------\u001b[0m",
      "\u001b[0;31mKeyError\u001b[0m                                  Traceback (most recent call last)",
      "\u001b[0;32m/var/folders/7j/lcy4jprn0_nf1ql4b97wy_9w0000gq/T/ipykernel_13062/1231872975.py\u001b[0m in \u001b[0;36m<module>\u001b[0;34m\u001b[0m\n\u001b[0;32m----> 1\u001b[0;31m \u001b[0mitemMap\u001b[0m\u001b[0;34m[\u001b[0m\u001b[0;34m'12810'\u001b[0m\u001b[0;34m]\u001b[0m\u001b[0;34m.\u001b[0m\u001b[0mminDim\u001b[0m\u001b[0;34m\u001b[0m\u001b[0;34m\u001b[0m\u001b[0m\n\u001b[0m",
      "\u001b[0;31mKeyError\u001b[0m: '12810'"
     ]
    }
   ],
   "source": [
    "itemMap['12810'].minDim"
   ]
  },
  {
   "cell_type": "markdown",
   "id": "fc5b2a02-9369-4176-9103-df3da5e27500",
   "metadata": {
    "tags": []
   },
   "source": [
    "### Rule Object\n",
    "Instead of hardcoding the selection rules, a more flexible approach would be to leverage object-oriented programming (OOP) concepts. This involves encapsulating the rules into separate Rule objects and applying them dynamically during the selection process. Let's compare the two styles:\n",
    "\n",
    "**Naive if flow**: \n",
    "```Python\n",
    "# rule one\n",
    "if foo>bar and ....:\n",
    "    do something here\n",
    "# rule two \n",
    "if foo<bar and ....:\n",
    "    do other things here\n",
    "# rule three, four, ...\n",
    "...\n",
    "```\n",
    "\n",
    "In this approach, the selection logic is directly implemented within the code, making it less adaptable to changes in rules or the need for additional rules. Modifying the selection criteria requires manual changes to the code, which can be error-prone and time-consuming.\n",
    "\n",
    "----\n",
    "\n",
    "**OOP**:\n",
    "```Python\n",
    "rules = [rule1, rule2, rule3, rule4, ...]\n",
    "for rule in rules:\n",
    "    rule.apply(item)\n",
    "...\n",
    "```\n",
    "\n",
    "By using OOP concepts, we can encapsulate the selection rules into separate Rule objects. Each Rule object represents a specific selection criterion and can be easily modified or extended without affecting the overall structure of the code. The rules can be organized into a cohesive hierarchy, allowing for better organization and maintainability.\n",
    "\n",
    "During the selection process, the Rule objects can be dynamically applied based on the desired criteria. This flexibility enables easy addition, modification, or removal of rules, providing a more scalable and adaptable solution.\n"
   ]
  },
  {
   "cell_type": "code",
   "execution_count": 100,
   "id": "9dace888-6081-41c6-92f2-a7092a45f93d",
   "metadata": {},
   "outputs": [],
   "source": [
    "# here is an example of how to implement Rule Object\n",
    "# Base Rule object. Every Rule object should provide the two method template\n",
    "class BaseRule:\n",
    "    def isEligible(self,item: Item):\n",
    "        '''returns a true/false(boolean) value for the selection logic to use.'''\n",
    "        return False\n",
    "    \n",
    "    def getGraspSuctionTuple(self):\n",
    "        '''returns a tuple (suctionCupID, graspTypeID) for the selection logic to use.'''\n",
    "        return (0, 1)\n",
    "\n",
    "    \n",
    "# each suction cup should have a base rule to enforce the min/max dim and weight condition\n",
    "class miniCupRule(BaseRule):\n",
    "    def isEligible(self, item: Item):\n",
    "        return item.dim3 > 0.18 and item.dim1 < 5 and item.weight < 0.8\n",
    "    \n",
    "    def getGraspSuctionTuple(self):\n",
    "        '''returns a tuple (suctionCupID, graspTypeID) for the selection logic to use.'''\n",
    "        return (5, 1)\n",
    "\n",
    "\n",
    "# advanced rule inheriting from cup base rule\n",
    "class MiniCupPreferred1SORule(miniCupRule):\n",
    "    '''Rule MiniCupPreferred1SO Implementation'''\n",
    "    def __init__(self):\n",
    "        super().__init__()\n",
    "        self.name = 'MiniCupPreferred1SO'\n",
    "    \n",
    "    def isEligible(self, item: Item):\n",
    "        return super().isEligible(item) and item.dim3 <1.1 and item.dim1 < 5.8 and item.weight < 0.088\n",
    "    \n",
    "    def getGraspSuctionTuple(self):\n",
    "        '''returns a tuple (suctionCupID, graspTypeID) for the selection logic to use.'''\n",
    "        return (5, 0)\n"
   ]
  },
  {
   "cell_type": "code",
   "execution_count": 101,
   "id": "15a45840-dab6-44bd-9455-ce4630550d4d",
   "metadata": {},
   "outputs": [
    {
     "name": "stdout",
     "output_type": "stream",
     "text": [
      "item 6614 is eligible for rule MiniCupPreferred1SO\n",
      "item 10668 is eligible for rule MiniCupPreferred1SO\n",
      "item 6692 is eligible for rule MiniCupPreferred1SO\n",
      "item 4857 is eligible for rule MiniCupPreferred1SO\n",
      "item 1517 is eligible for rule MiniCupPreferred1SO\n",
      "item 864 is eligible for rule MiniCupPreferred1SO\n",
      "item 2713 is eligible for rule MiniCupPreferred1SO\n",
      "item 7621 is eligible for rule MiniCupPreferred1SO\n",
      "item 5293 is eligible for rule MiniCupPreferred1SO\n",
      "item 889 is eligible for rule MiniCupPreferred1SO\n",
      "item 4482 is eligible for rule MiniCupPreferred1SO\n",
      "item 6660 is eligible for rule MiniCupPreferred1SO\n",
      "item 915 is eligible for rule MiniCupPreferred1SO\n",
      "item 1211 is eligible for rule MiniCupPreferred1SO\n",
      "item 2527 is eligible for rule MiniCupPreferred1SO\n",
      "item 4595 is eligible for rule MiniCupPreferred1SO\n",
      "item 7921 is eligible for rule MiniCupPreferred1SO\n",
      "item 1006 is eligible for rule MiniCupPreferred1SO\n",
      "item 2353 is eligible for rule MiniCupPreferred1SO\n",
      "item 20570 is eligible for rule MiniCupPreferred1SO\n",
      "item 3101 is eligible for rule MiniCupPreferred1SO\n",
      "item 3712 is eligible for rule MiniCupPreferred1SO\n",
      "item 818 is eligible for rule MiniCupPreferred1SO\n",
      "item 4842 is eligible for rule MiniCupPreferred1SO\n",
      "item 4050 is eligible for rule MiniCupPreferred1SO\n",
      "item 4776 is eligible for rule MiniCupPreferred1SO\n",
      "item 769 is eligible for rule MiniCupPreferred1SO\n",
      "item 8056 is eligible for rule MiniCupPreferred1SO\n",
      "item 7458 is eligible for rule MiniCupPreferred1SO\n",
      "item 1301 is eligible for rule MiniCupPreferred1SO\n",
      "item 4351 is eligible for rule MiniCupPreferred1SO\n",
      "item 4604 is eligible for rule MiniCupPreferred1SO\n",
      "item 1130 is eligible for rule MiniCupPreferred1SO\n",
      "item 24023 is eligible for rule MiniCupPreferred1SO\n",
      "item 822 is eligible for rule MiniCupPreferred1SO\n",
      "item 6822 is eligible for rule MiniCupPreferred1SO\n",
      "item 2895 is eligible for rule MiniCupPreferred1SO\n",
      "item 6893 is eligible for rule MiniCupPreferred1SO\n",
      "item 838 is eligible for rule MiniCupPreferred1SO\n",
      "item 4785 is eligible for rule MiniCupPreferred1SO\n",
      "item 5048 is eligible for rule MiniCupPreferred1SO\n",
      "item 1970 is eligible for rule MiniCupPreferred1SO\n",
      "item 1926 is eligible for rule MiniCupPreferred1SO\n",
      "item 14747 is eligible for rule MiniCupPreferred1SO\n",
      "item 4468 is eligible for rule MiniCupPreferred1SO\n",
      "item 938 is eligible for rule MiniCupPreferred1SO\n",
      "item 2936 is eligible for rule MiniCupPreferred1SO\n",
      "item 1333 is eligible for rule MiniCupPreferred1SO\n",
      "item 2853 is eligible for rule MiniCupPreferred1SO\n",
      "item 1197 is eligible for rule MiniCupPreferred1SO\n",
      "item 20772 is eligible for rule MiniCupPreferred1SO\n",
      "item 4784 is eligible for rule MiniCupPreferred1SO\n",
      "item 1697 is eligible for rule MiniCupPreferred1SO\n",
      "item 992 is eligible for rule MiniCupPreferred1SO\n",
      "item 7003 is eligible for rule MiniCupPreferred1SO\n",
      "item 4349 is eligible for rule MiniCupPreferred1SO\n",
      "item 4702 is eligible for rule MiniCupPreferred1SO\n",
      "item 3107 is eligible for rule MiniCupPreferred1SO\n",
      "item 5531 is eligible for rule MiniCupPreferred1SO\n",
      "item 5390 is eligible for rule MiniCupPreferred1SO\n",
      "item 846 is eligible for rule MiniCupPreferred1SO\n",
      "item 1798 is eligible for rule MiniCupPreferred1SO\n",
      "item 24790 is eligible for rule MiniCupPreferred1SO\n",
      "item 14921 is eligible for rule MiniCupPreferred1SO\n",
      "item 4711 is eligible for rule MiniCupPreferred1SO\n",
      "item 4719 is eligible for rule MiniCupPreferred1SO\n",
      "item 4932 is eligible for rule MiniCupPreferred1SO\n",
      "item 1904 is eligible for rule MiniCupPreferred1SO\n",
      "item 2750 is eligible for rule MiniCupPreferred1SO\n",
      "item 5472 is eligible for rule MiniCupPreferred1SO\n",
      "item 1925 is eligible for rule MiniCupPreferred1SO\n",
      "item 19398 is eligible for rule MiniCupPreferred1SO\n",
      "item 5191 is eligible for rule MiniCupPreferred1SO\n",
      "item 837 is eligible for rule MiniCupPreferred1SO\n",
      "item 12004 is eligible for rule MiniCupPreferred1SO\n",
      "item 6588 is eligible for rule MiniCupPreferred1SO\n",
      "item 6955 is eligible for rule MiniCupPreferred1SO\n",
      "item 1011 is eligible for rule MiniCupPreferred1SO\n",
      "item 1418 is eligible for rule MiniCupPreferred1SO\n",
      "item 7303 is eligible for rule MiniCupPreferred1SO\n",
      "item 3683 is eligible for rule MiniCupPreferred1SO\n",
      "item 1530 is eligible for rule MiniCupPreferred1SO\n",
      "item 2166 is eligible for rule MiniCupPreferred1SO\n",
      "item 6553 is eligible for rule MiniCupPreferred1SO\n",
      "item 4292 is eligible for rule MiniCupPreferred1SO\n",
      "item 781 is eligible for rule MiniCupPreferred1SO\n",
      "item 7394 is eligible for rule MiniCupPreferred1SO\n",
      "item 1202 is eligible for rule MiniCupPreferred1SO\n",
      "item 4565 is eligible for rule MiniCupPreferred1SO\n",
      "item 1466 is eligible for rule MiniCupPreferred1SO\n",
      "item 779 is eligible for rule MiniCupPreferred1SO\n",
      "item 5041 is eligible for rule MiniCupPreferred1SO\n",
      "item 6884 is eligible for rule MiniCupPreferred1SO\n",
      "item 2803 is eligible for rule MiniCupPreferred1SO\n",
      "item 4764 is eligible for rule MiniCupPreferred1SO\n",
      "item 793 is eligible for rule MiniCupPreferred1SO\n",
      "item 1092 is eligible for rule MiniCupPreferred1SO\n",
      "item 6965 is eligible for rule MiniCupPreferred1SO\n",
      "item 4794 is eligible for rule MiniCupPreferred1SO\n",
      "item 4502 is eligible for rule MiniCupPreferred1SO\n",
      "item 24724 is eligible for rule MiniCupPreferred1SO\n",
      "item 5599 is eligible for rule MiniCupPreferred1SO\n",
      "item 7885 is eligible for rule MiniCupPreferred1SO\n",
      "item 4452 is eligible for rule MiniCupPreferred1SO\n",
      "item 3079 is eligible for rule MiniCupPreferred1SO\n",
      "item 2430 is eligible for rule MiniCupPreferred1SO\n",
      "item 12912 is eligible for rule MiniCupPreferred1SO\n",
      "item 1230 is eligible for rule MiniCupPreferred1SO\n",
      "item 7314 is eligible for rule MiniCupPreferred1SO\n",
      "item 782 is eligible for rule MiniCupPreferred1SO\n",
      "item 2780 is eligible for rule MiniCupPreferred1SO\n",
      "item 7052 is eligible for rule MiniCupPreferred1SO\n",
      "item 5512 is eligible for rule MiniCupPreferred1SO\n",
      "item 5964 is eligible for rule MiniCupPreferred1SO\n",
      "item 4637 is eligible for rule MiniCupPreferred1SO\n",
      "item 791 is eligible for rule MiniCupPreferred1SO\n",
      "item 792 is eligible for rule MiniCupPreferred1SO\n",
      "item 8184 is eligible for rule MiniCupPreferred1SO\n",
      "item 1113 is eligible for rule MiniCupPreferred1SO\n",
      "item 966 is eligible for rule MiniCupPreferred1SO\n",
      "item 1554 is eligible for rule MiniCupPreferred1SO\n",
      "item 1714 is eligible for rule MiniCupPreferred1SO\n",
      "item 4758 is eligible for rule MiniCupPreferred1SO\n",
      "item 1154 is eligible for rule MiniCupPreferred1SO\n",
      "item 7483 is eligible for rule MiniCupPreferred1SO\n"
     ]
    }
   ],
   "source": [
    "# run through the items and apply MiniCupPreferred1SO rule:\n",
    "rules = [MiniCupPreferred1SORule(),]\n",
    "itemSample = []\n",
    "# loop over items and rules\n",
    "for itemId, item in itemMap.items():\n",
    "    for rule in rules:\n",
    "        if rule.isEligible(item):\n",
    "            print(f\"item {itemId} is eligible for rule {rule.name}\")\n",
    "            item.mySelection.append(rule.getGraspSuctionTuple())\n",
    "            itemSample.append(item)"
   ]
  },
  {
   "cell_type": "code",
   "execution_count": 103,
   "id": "aba82775-2423-4049-a5ac-48137d369fc6",
   "metadata": {},
   "outputs": [
    {
     "data": {
      "text/plain": [
       "[(5, 0)]"
      ]
     },
     "execution_count": 103,
     "metadata": {},
     "output_type": "execute_result"
    }
   ],
   "source": [
    "itemMap[4758].mySelection"
   ]
  },
  {
   "cell_type": "code",
   "execution_count": null,
   "id": "a8a0886c-e64b-4bc0-b636-fe9141500455",
   "metadata": {},
   "outputs": [],
   "source": []
  }
 ],
 "metadata": {
  "kernelspec": {
   "display_name": "Python 3 (ipykernel)",
   "language": "python",
   "name": "python3"
  },
  "language_info": {
   "codemirror_mode": {
    "name": "ipython",
    "version": 3
   },
   "file_extension": ".py",
   "mimetype": "text/x-python",
   "name": "python",
   "nbconvert_exporter": "python",
   "pygments_lexer": "ipython3",
   "version": "3.9.7"
  }
 },
 "nbformat": 4,
 "nbformat_minor": 5
}
