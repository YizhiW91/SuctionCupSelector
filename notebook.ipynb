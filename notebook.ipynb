{
 "cells": [
  {
   "cell_type": "markdown",
   "id": "da69cbe3-3052-4b8f-8a1c-c48da42de1f1",
   "metadata": {
    "tags": []
   },
   "source": [
    "# Suction Cup Selector Project\n",
    "\n",
    "This is the notebook for the suction cup selector project."
   ]
  },
  {
   "cell_type": "markdown",
   "id": "8c88e451-f513-4b06-a1c6-ad67cb866e36",
   "metadata": {},
   "source": [
    "## Download the project\n",
    "If you have git installed, you should be able to pull the project down from the repository using the command:\n",
    "\n",
    "```bash\n",
    "git clone <url>\n",
    "```\n",
    "\n",
    "Once you cloned the project, you can switch the branch using:\n",
    "\n",
    "```bash\n",
    "git checkout <branchname>\n",
    "```\n",
    "\n",
    "To confirm your change and add it to the git history, do:\n",
    "\n",
    "```bash\n",
    "git add .  #this is to stage all chagnes\n",
    "git status #this is to confirm the change\n",
    "git commit -m \"commit message\" #this is to finalize and commit the change\n",
    "```\n",
    "\n",
    "If you want to push your changes to repository, do:\n",
    "\n",
    "```bash\n",
    "git push -u origin <branchname>\n",
    "```\n",
    "\n",
    "To stage your changes for review, do pull request on Github\n"
   ]
  },
  {
   "cell_type": "markdown",
   "id": "54e9bb82-3d61-490d-b1ee-0bf403fcd193",
   "metadata": {},
   "source": [
    "## Environment setup\n",
    "For this project I choose to use Python 3.9 with Pandas/Jupyter library."
   ]
  },
  {
   "cell_type": "code",
   "execution_count": null,
   "id": "69994ec7-ef9f-463c-9c61-065e54e7fb3c",
   "metadata": {},
   "outputs": [],
   "source": [
    "import sys\n",
    "print(sys.version)"
   ]
  },
  {
   "cell_type": "markdown",
   "id": "e8c75155-09af-4c08-a880-1ed6c824e1f7",
   "metadata": {},
   "source": [
    "To isolate the environment, here is how you create a virtual one for the project. Go to your project folder, open terminal/cmd and run the following command:\n",
    "\n",
    "```bash\n",
    "python3 -m venv myenv\n",
    "```\n",
    "\n",
    "To activate the environment, run the following command:\n",
    "```bash\n",
    "# for windows\n",
    "myenv\\Scripts\\activate\n",
    "\n",
    "# for Mac/Linux\n",
    "source myenv/bin/activate\n",
    "```"
   ]
  },
  {
   "cell_type": "markdown",
   "id": "eb98df45-8cef-49e2-9752-bb73c92527d3",
   "metadata": {},
   "source": [
    "## Data Processing\n",
    "The first step of the project is to process the flat files. There are multiple ways for doing data processing. Here we choose to use pandas library read_csv() method to load the csv files into pandas **dataframe** objects."
   ]
  },
  {
   "cell_type": "code",
   "execution_count": null,
   "id": "25090c65-fce3-4157-935c-d97f99a3ea1a",
   "metadata": {},
   "outputs": [],
   "source": [
    "import pandas as pd\n",
    "\n",
    "suctionCups = pd.read_csv('SuctionCups.csv')\n",
    "graspTypes = pd.read_csv('GraspTypes.csv')\n",
    "items = pd.read_csv('items.csv')\n",
    "itemConfigs = pd.read_csv('itemConfigs.csv')"
   ]
  },
  {
   "cell_type": "markdown",
   "id": "349a7091-094e-4885-b8fa-e1d9d2beffd8",
   "metadata": {},
   "source": [
    "#### To see the type of the object, you can do type()\n"
   ]
  },
  {
   "cell_type": "code",
   "execution_count": null,
   "id": "c9deaf3e-b851-4a11-bf39-e079bfd6306e",
   "metadata": {},
   "outputs": [],
   "source": [
    "type(items)"
   ]
  },
  {
   "cell_type": "markdown",
   "id": "73ee89aa-2982-407f-846d-f17a8a72b3fc",
   "metadata": {
    "tags": []
   },
   "source": [
    "#### To inspect the data we just loaded, Here are some common methods:\n",
    "* df.head(): Returns the first few rows of the DataFrame.\n",
    "* df.tail(): Returns the last few rows of the DataFrame.\n",
    "* df.shape: Returns the dimensions (rows, columns) of the DataFrame.\n",
    "* df.info(): Provides information about the DataFrame, including column data types and missing values.\n",
    "* df.describe(): Generates descriptive statistics of numerical columns, such as count, mean, min, max, etc."
   ]
  },
  {
   "cell_type": "markdown",
   "id": "0111f9ce-1b4b-471e-bb1b-3000abca5c76",
   "metadata": {},
   "source": [
    "#### items object overview"
   ]
  },
  {
   "cell_type": "code",
   "execution_count": null,
   "id": "1b5920c0-ae22-40bf-bf78-a7d68ee6bc2d",
   "metadata": {},
   "outputs": [],
   "source": [
    "items.head()"
   ]
  },
  {
   "cell_type": "code",
   "execution_count": null,
   "id": "85d62fc5-f3a3-4a12-9756-e16f6c2303dc",
   "metadata": {},
   "outputs": [],
   "source": [
    "items.shape"
   ]
  },
  {
   "cell_type": "code",
   "execution_count": null,
   "id": "12222633-ceed-417b-bc0f-0010215b1acd",
   "metadata": {},
   "outputs": [],
   "source": [
    "items.info()"
   ]
  },
  {
   "cell_type": "code",
   "execution_count": null,
   "id": "f38635e2-9e10-47cb-be61-53857213babe",
   "metadata": {},
   "outputs": [],
   "source": [
    "items.describe()"
   ]
  },
  {
   "cell_type": "markdown",
   "id": "df51cf15-9101-4e1c-8e2c-2aa8068e1199",
   "metadata": {},
   "source": [
    "#### graspTypes object overview"
   ]
  },
  {
   "cell_type": "code",
   "execution_count": null,
   "id": "97326113-1462-44f8-9422-6859d2924814",
   "metadata": {},
   "outputs": [],
   "source": [
    "graspTypes.head()"
   ]
  },
  {
   "cell_type": "code",
   "execution_count": null,
   "id": "36039c64-dd97-4954-a939-eaa89d597a08",
   "metadata": {},
   "outputs": [],
   "source": [
    "graspTypes.shape"
   ]
  },
  {
   "cell_type": "code",
   "execution_count": null,
   "id": "bbb666ee-e561-46fa-a220-1805fc3260cf",
   "metadata": {},
   "outputs": [],
   "source": [
    "graspTypes.info()"
   ]
  },
  {
   "cell_type": "markdown",
   "id": "2f4196e1-98df-429c-af8b-d74c14c52631",
   "metadata": {},
   "source": [
    "#### SuctionCups object overview"
   ]
  },
  {
   "cell_type": "code",
   "execution_count": null,
   "id": "20e7fa3c-26a1-4ec3-ae5f-80d2b43ae885",
   "metadata": {},
   "outputs": [],
   "source": [
    "suctionCups.head(n=10)"
   ]
  },
  {
   "cell_type": "code",
   "execution_count": null,
   "id": "47194001-f5b4-43e2-9afb-24daf50a5e64",
   "metadata": {},
   "outputs": [],
   "source": [
    "suctionCups.shape"
   ]
  },
  {
   "cell_type": "code",
   "execution_count": null,
   "id": "3c520d53-e9a2-4774-bdab-2ef8f69df817",
   "metadata": {},
   "outputs": [],
   "source": [
    "suctionCups.info()"
   ]
  },
  {
   "cell_type": "markdown",
   "id": "b5c42ada-79ef-4f99-90fe-2e34ebcabc8f",
   "metadata": {},
   "source": [
    "#### itemConfig object overview"
   ]
  },
  {
   "cell_type": "code",
   "execution_count": null,
   "id": "1be844fc-03ea-4ab7-a08d-68c52f0020c4",
   "metadata": {},
   "outputs": [],
   "source": [
    "itemConfigs.head(n=100)"
   ]
  },
  {
   "cell_type": "code",
   "execution_count": null,
   "id": "eeeeb5b0-4c77-4f84-8e72-da46e2b472b0",
   "metadata": {},
   "outputs": [],
   "source": [
    "itemConfigs.shape"
   ]
  },
  {
   "cell_type": "code",
   "execution_count": null,
   "id": "31e9f695-5c32-492b-9e34-796fffb773ec",
   "metadata": {},
   "outputs": [],
   "source": [
    "itemConfigs.info()"
   ]
  },
  {
   "cell_type": "code",
   "execution_count": null,
   "id": "75ec5f18-d700-4c91-b44a-2e2d372e06ca",
   "metadata": {},
   "outputs": [],
   "source": [
    "itemConfigs['name'].value_counts()"
   ]
  },
  {
   "cell_type": "code",
   "execution_count": null,
   "id": "30eb18cb-7a76-41c0-ab5f-ef2471773aa3",
   "metadata": {},
   "outputs": [],
   "source": [
    "itemConfigs.groupby('item_id').filter(lambda x: len(x)>1).shape"
   ]
  },
  {
   "cell_type": "markdown",
   "id": "753e34c8-33dd-4180-85cb-75f94c09f0d6",
   "metadata": {},
   "source": [
    "## Data Cleaning\n",
    "\n",
    "After a preliminary data inspection, it is evident that the dataset contains incorrect data types and null values. Additionally, it is frequently observed that text fields contains noisy punctuations, such as quote and semicolons, which should be eliminated. Performing data cleaning is crucial at this stage to eradicate such records and ensure the cleanliness of your data."
   ]
  },
  {
   "cell_type": "markdown",
   "id": "cec33b7f-43f8-44cd-850e-243cb208040a",
   "metadata": {
    "tags": []
   },
   "source": [
    "### Item object\n",
    "* Many item rows doesn't have SKU#\n",
    "* Item ID should be a string since we are not going to do numeric manipulation on it.\n",
    "* SKU # should be a string field without the trailing .0\n",
    "* item_description is a text field. We probably want to take a deeper look\n",
    "* len/wid/hgt doesn't quite fit our purpose. Making dim1, dim2 and dim3 in a asc/desc order makes more sense "
   ]
  },
  {
   "cell_type": "code",
   "execution_count": null,
   "id": "99a11656-c542-497e-9989-600a186d556d",
   "metadata": {},
   "outputs": [],
   "source": [
    "# drop null\n",
    "items.dropna(subset=['sku_no'], inplace=True)"
   ]
  },
  {
   "cell_type": "code",
   "execution_count": null,
   "id": "0aac5103-7d05-4d32-ad6a-ad2002314861",
   "metadata": {},
   "outputs": [],
   "source": [
    "items.shape"
   ]
  },
  {
   "cell_type": "code",
   "execution_count": null,
   "id": "f6033316-d018-442d-afe3-9f4c8b3d2abf",
   "metadata": {},
   "outputs": [],
   "source": [
    "# reformat item and sku_no field\n",
    "items['sku_no'] = items['sku_no'].astype(str).str.rstrip('.0')\n",
    "items['item_id'] = items['item_id'].astype(str)"
   ]
  },
  {
   "cell_type": "code",
   "execution_count": null,
   "id": "183aae6a-afb2-4647-8339-440c886eeac9",
   "metadata": {},
   "outputs": [],
   "source": [
    "items.sample(5)"
   ]
  },
  {
   "cell_type": "code",
   "execution_count": null,
   "id": "30427eb7-3701-40f9-8329-0a5efc69993e",
   "metadata": {},
   "outputs": [],
   "source": [
    "# check punctuation\n",
    "import string\n",
    "\n",
    "print(string.punctuation)\n",
    "mask = items['item_description'].str.contains(f\"[{string.punctuation}]\")"
   ]
  },
  {
   "cell_type": "code",
   "execution_count": null,
   "id": "4857b8ba-5acc-4522-96eb-5e1d2ff8f81c",
   "metadata": {},
   "outputs": [],
   "source": [
    "items[mask].sample(10)"
   ]
  },
  {
   "cell_type": "code",
   "execution_count": null,
   "id": "64f9eaf5-076d-48ba-8177-ff5ad681be4c",
   "metadata": {},
   "outputs": [],
   "source": [
    "# remove punctuation\n",
    "unwantedChar = '\\'\"&'\n",
    "for c in unwantedChar:\n",
    "    items['item_description'] = items['item_description'].str.replace(c, '')"
   ]
  },
  {
   "cell_type": "code",
   "execution_count": null,
   "id": "5f991238-8ed5-4f37-9e19-ae3296c41ea0",
   "metadata": {},
   "outputs": [],
   "source": [
    "items[mask].sample()"
   ]
  },
  {
   "cell_type": "code",
   "execution_count": null,
   "id": "333ce41c-c79f-4103-8a23-189b57551896",
   "metadata": {},
   "outputs": [],
   "source": [
    "# reformat len/width/hgt to dim1/2/3\n",
    "items['dim1'] = items[['unit_length', 'unit_width', 'unit_height']].apply(max, axis=1)\n",
    "items['dim2'] = items[['unit_length', 'unit_width', 'unit_height']].apply(lambda x: sorted(x)[1], axis=1)\n",
    "items['dim3'] = items[['unit_length', 'unit_width', 'unit_height']].apply(min, axis=1)"
   ]
  },
  {
   "cell_type": "markdown",
   "id": "bbfae780-10e1-426c-9421-be9fa4348059",
   "metadata": {},
   "source": [
    "## Suction Cup Selection Logic\n",
    "In this section, our main focus will be on developing the selection logic. The selection logic consists of a series of conditional statements with expandable rules. To ensure flexibility for future rule additions, we can leverage object-oriented programming (OOP) concepts. By adopting an OOP approach, we can easily incorporate new rules into the existing framework."
   ]
  },
  {
   "cell_type": "markdown",
   "id": "470b57c2-4ad3-45f1-9927-97fb3d56dc25",
   "metadata": {
    "tags": []
   },
   "source": [
    "### Item Objects\n",
    "The base of OOP is object. Pandas dataframe provides conveninent utilities for data manipulation, but it is not designed for OOP. For implementing selection logic, I would like to convert item to a object which is easier to access later on."
   ]
  },
  {
   "cell_type": "code",
   "execution_count": null,
   "id": "074e736f-504b-4b39-93d1-47ed953eac36",
   "metadata": {},
   "outputs": [],
   "source": [
    "items"
   ]
  },
  {
   "cell_type": "code",
   "execution_count": null,
   "id": "5ef118a7-f1b7-40f0-ae86-c5dfb9f629f7",
   "metadata": {},
   "outputs": [],
   "source": [
    "# here I created a item object to host the name and description\n",
    "class Item:\n",
    "    def __init__(self, **kwargs):\n",
    "        for key, value in kwargs.items():\n",
    "            setattr(self, key, value)\n",
    "        self.mySelection = []\n",
    "    \n",
    "    def __str__(self):\n",
    "        pstr = ''\n",
    "        for k, v in vars(self).items():\n",
    "            pstr += f\"{k}:{v};\\n\"\n",
    "        return pstr"
   ]
  },
  {
   "cell_type": "code",
   "execution_count": null,
   "id": "3ac83c35-b670-40eb-9699-74ecf96d8e54",
   "metadata": {},
   "outputs": [],
   "source": [
    "# Initiate Map/dict to contain items\n",
    "# the key should be the item ID, the value is the Item object: {1: item1, 2:item2, ...}\n",
    "itemMap = {}\n",
    "\n",
    "# Make a for loop to go through the dataframe and put each row into a object\n",
    "for idx, row in items.iterrows():\n",
    "    itemMap[row['item_id']] = Item(**row.to_dict())"
   ]
  },
  {
   "cell_type": "code",
   "execution_count": null,
   "id": "659ac0d0-4946-4385-be44-7e09e28ffc9b",
   "metadata": {},
   "outputs": [],
   "source": [
    "itemMap['12810']"
   ]
  },
  {
   "cell_type": "code",
   "execution_count": null,
   "id": "347936f5-cf64-46ff-b9c3-614f31d4b676",
   "metadata": {},
   "outputs": [],
   "source": [
    "print(itemMap['12810'])"
   ]
  },
  {
   "cell_type": "code",
   "execution_count": null,
   "id": "e04011ce-5b7d-420e-a2f8-a12f70cc8ed5",
   "metadata": {},
   "outputs": [],
   "source": [
    "itemMap['12810'].minDim"
   ]
  },
  {
   "cell_type": "markdown",
   "id": "fc5b2a02-9369-4176-9103-df3da5e27500",
   "metadata": {},
   "source": [
    "### Rule Object\n",
    "Instead of hardcoding the selection rules, a more flexible approach would be to leverage object-oriented programming (OOP) concepts. This involves encapsulating the rules into separate Rule objects and applying them dynamically during the selection process. Let's compare the two styles:\n",
    "\n",
    "**Naive if flow**: \n",
    "```Python\n",
    "# rule one\n",
    "if foo>bar and ....:\n",
    "    do something here\n",
    "# rule two \n",
    "if foo<bar and ....:\n",
    "    do other things here\n",
    "# rule three, four, ...\n",
    "...\n",
    "```\n",
    "\n",
    "In this approach, the selection logic is directly implemented within the code, making it less adaptable to changes in rules or the need for additional rules. Modifying the selection criteria requires manual changes to the code, which can be error-prone and time-consuming.\n",
    "\n",
    "----\n",
    "\n",
    "**OOP**:\n",
    "```Python\n",
    "rules = [rule1, rule2, rule3, rule4, ...]\n",
    "for rule in rules:\n",
    "    rule.apply(item)\n",
    "...\n",
    "```\n",
    "\n",
    "By using OOP concepts, we can encapsulate the selection rules into separate Rule objects. Each Rule object represents a specific selection criterion and can be easily modified or extended without affecting the overall structure of the code. The rules can be organized into a cohesive hierarchy, allowing for better organization and maintainability.\n",
    "\n",
    "During the selection process, the Rule objects can be dynamically applied based on the desired criteria. This flexibility enables easy addition, modification, or removal of rules, providing a more scalable and adaptable solution.\n"
   ]
  },
  {
   "cell_type": "code",
   "execution_count": 487,
   "id": "9dace888-6081-41c6-92f2-a7092a45f93d",
   "metadata": {},
   "outputs": [],
   "source": [
    "# here is an example of how to implement Rule Object\n",
    "# Base Rule object. Every Rule object should provide the two method template\n",
    "class BaseRule:\n",
    "    def isEligible(self):\n",
    "        '''returns a true/false(boolean) value for the selection logic to use.'''\n",
    "        return False\n",
    "    \n",
    "    def getGraspSuctionTuple(self):\n",
    "        '''returns a tuple (suctionCupID, graspTypeID) for the selection logic to use.'''\n",
    "        return (0, 1)\n",
    "\n",
    "    \n",
    "# each suction cup should have a base rule to enforce the min/max dim and weight condition\n",
    "class miniCupRule(BaseRule):\n",
    "    def isEligible(self, item: Item):\n",
    "        return item.dim3 > 0.18 and item.dim1 < 5 and item.weight < 0.8\n",
    "    \n",
    "    def getGraspSuctionTuple(self):\n",
    "        '''returns a tuple (suctionCupID, graspTypeID) for the selection logic to use.'''\n",
    "        return (5, 1)\n",
    "\n",
    "\n",
    "# advanced rule inheriting from cup base rule\n",
    "class MiniCupPreferred1SORule(miniCupRule):\n",
    "    '''Rule MiniCupPreferred1SO Implementation'''\n",
    "    def __init__(self):\n",
    "        super().__init__()\n",
    "        self.name = 'MiniCupPreferred1SO'\n",
    "    \n",
    "    def isEligible(self, item: Item):\n",
    "        return super().isEligible(item) and item.dim3 <1.1 and item.dim1 < 5.8 and item.weight < 0.088\n",
    "    \n",
    "    def getGraspSuctionTuple(self):\n",
    "        '''returns a tuple (suctionCupID, graspTypeID) for the selection logic to use.'''\n",
    "        return (0, 1)\n"
   ]
  },
  {
   "cell_type": "code",
   "execution_count": null,
   "id": "15a45840-dab6-44bd-9455-ce4630550d4d",
   "metadata": {},
   "outputs": [],
   "source": [
    "# run through the items and apply MiniCupPreferred1SO rule:\n",
    "rules = [MiniCupPreferred1SORule(),]\n",
    "itemSample = []\n",
    "# loop over items and rules\n",
    "for itemId, item in itemMap.items():\n",
    "    for rule in rules:\n",
    "        if rule.isEligible(item):\n",
    "            print(f\"item {itemId} is eligible for rule {rule.name}\")\n",
    "            item.mySelection.append(rule.getGraspSuctionTuple())\n",
    "            itemSample.append(item)"
   ]
  },
  {
   "cell_type": "code",
   "execution_count": null,
   "id": "aba82775-2423-4049-a5ac-48137d369fc6",
   "metadata": {},
   "outputs": [],
   "source": [
    "itemMap['5048'].mySelection"
   ]
  },
  {
   "cell_type": "code",
   "execution_count": null,
   "id": "a8a0886c-e64b-4bc0-b636-fe9141500455",
   "metadata": {},
   "outputs": [],
   "source": []
  }
 ],
 "metadata": {
  "kernelspec": {
   "display_name": "Python 3 (ipykernel)",
   "language": "python",
   "name": "python3"
  },
  "language_info": {
   "codemirror_mode": {
    "name": "ipython",
    "version": 3
   },
   "file_extension": ".py",
   "mimetype": "text/x-python",
   "name": "python",
   "nbconvert_exporter": "python",
   "pygments_lexer": "ipython3",
   "version": "3.9.7"
  }
 },
 "nbformat": 4,
 "nbformat_minor": 5
}
